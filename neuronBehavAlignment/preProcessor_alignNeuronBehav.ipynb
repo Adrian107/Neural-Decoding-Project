{
 "cells": [
  {
   "cell_type": "markdown",
   "metadata": {},
   "source": [
    "## Align Neuron and Behavior Data\n",
    "This notebook contains the preprocessor for align the neuron and behavior data"
   ]
  },
  {
   "cell_type": "code",
   "execution_count": 1,
   "metadata": {},
   "outputs": [],
   "source": [
    "import numpy as np\n",
    "import pandas as pd\n",
    "import numpy as np\n",
    "import cv2"
   ]
  },
  {
   "cell_type": "markdown",
   "metadata": {},
   "source": [
    "### Functions"
   ]
  },
  {
   "cell_type": "code",
   "execution_count": 2,
   "metadata": {},
   "outputs": [],
   "source": [
    "def fourPointTransform(pts, dwd, dht, image = None):\n",
    "    '''\n",
    "    Task: Transform image by its corner four points.\n",
    "\n",
    "    PARAMETERS:\n",
    "    -----------\n",
    "    image: array, Optional if intend to transform an image\n",
    "        image matrix\n",
    "\n",
    "    pts: list, tuple, array of list\n",
    "        coordinates of the top-left, top-right, bottom-right, and bottom-left points\n",
    "\n",
    "    dwd: width of the destination image\n",
    "\n",
    "    dht: height of the destination image\n",
    "    '''\n",
    "    dst = np.array([[0, 0], [dwd-1, 0], [dwd-1, dht-1], [0, dht-1]], dtype=\"float32\")\n",
    "\n",
    "    # Transformation matrix\n",
    "    tmat = cv2.getPerspectiveTransform(pts, dst)\n",
    "\n",
    "    if image is None:\n",
    "        return tmat\n",
    "    else:\n",
    "        # Apply the matrix\n",
    "        warped = cv2.warpPerspective(image, tmat, (dwd, dht))\n",
    "        return warped, tmat\n",
    "\n",
    "\n",
    "def locCoordConvert(data, pts, dwd, dht):\n",
    "    '''\n",
    "    Task: Convert mouse location data to prospective coordicates after correcting coord system.\n",
    "\n",
    "    PARAMETERS:\n",
    "    -----------\n",
    "    data: DataFrame\n",
    "        original location data\n",
    "\n",
    "    pts: list, tuple, array of list\n",
    "        coordinates of the top-left, top-right, bottom-right, and bottom-left points\n",
    "\n",
    "    dwd: width of the destination image\n",
    "\n",
    "    dht: height of the destination image\n",
    "    '''\n",
    "    # Transposed transformation matrix\n",
    "    tp_tmat = fourPointTransform(pts, dwd, dht)\n",
    "    columns = [i for i in data.columns if i[0] == \"x\" or i[0] == \"y\"]\n",
    "    transformed = pd.DataFrame()\n",
    "    # x, y, 1\n",
    "    for i in range(0,len(columns),2):\n",
    "        temp = pd.concat([data[[columns[i],columns[i+1]]],\n",
    "                        pd.DataFrame([1]*len(data))], axis = 1, join = \"inner\").values\n",
    "        transform = pd.DataFrame(np.dot(temp, tp_tmat)[:,:2])\n",
    "\n",
    "        transformed = pd.concat([transformed, transform], ignore_index = True, axis=1)\n",
    "    transformed.columns = columns\n",
    "    # Since (transformed head)^T = (transformation matrix)(head)^T, and (AB)^T = B^TA^T\n",
    "    # Transformed head = head(transformation matrix)^T\n",
    "\n",
    "    return transformed\n",
    "\n",
    "def ptsCoordConvert(refPts, pts, dwd, dht):\n",
    "    '''\n",
    "    Task: Convert user-specifed points to prospective coordicates after correcting coord system.\n",
    "\n",
    "    PARAMETERS:\n",
    "    -----------\n",
    "    refPts: list, tuple, array of list\n",
    "        coordinates of the top-left, top-right, bottom-right, and bottom-left points\n",
    "\n",
    "    pts: list, tuple, array of list\n",
    "        coordinates of points to convert\n",
    "\n",
    "    dwd: width of the destination image\n",
    "\n",
    "    dht: height of the destination image\n",
    "    '''\n",
    "    # Transformation matrix\n",
    "    tmat = fourPointTransform(refPts, dwd, dht)\n",
    "    transformedPts = []\n",
    "    # Converse mutiple points\n",
    "    if np.array(pts).shape != (2,):\n",
    "        for i in pts:\n",
    "            i.append(1)\n",
    "            transformedPts.append(list(np.dot(tmat, i)[:2]))\n",
    "    # Single point\n",
    "    else:\n",
    "        pts.append(1)\n",
    "        transformedPts.append(list(np.dot(tmat, pts)[:2]))\n",
    "\n",
    "    return transformedPts\n",
    "def align(neuron_data, dlc_data, timestamp, gap_time):\n",
    "    '''\n",
    "    Task: align neuron data and dlc data based on the corresponding timestamp.dat. The alignment is followed by frame number\n",
    "\n",
    "    PARAMETERS:\n",
    "    -----------\n",
    "    neuron_data: cnmfe data, transposed\n",
    "\n",
    "    dlc_data: deeplabcut data\n",
    "\n",
    "    timestamp: timestamp file in the specific mouse folder\n",
    "\n",
    "    return: sorted msCam, sorted behavCam\n",
    "    '''\n",
    "    new_order = []\n",
    "    # Check the diff between cam and behav in timestamp.\n",
    "    camNum = list(set(timestamp.camNum))\n",
    "    redundant = list(set(timestamp[timestamp[\"camNum\"]==camNum[0]][\"frameNum\"]) - set(timestamp[timestamp[\"camNum\"]==camNum[1]][\"frameNum\"])) # may cause NAN value afterwards, so remove it now\n",
    "    for i, index in zip(timestamp[\"frameNum\"].values, timestamp.index):\n",
    "        if i not in redundant:\n",
    "            continue\n",
    "        else:\n",
    "            timestamp = timestamp.drop(index)\n",
    "\n",
    "    # We do not need coords column\n",
    "    dlc_data = dlc_data.drop(columns = \"coords\", axis = 1)\n",
    "    # For length of dlc and neuron data is not the same, take out the redundant data (may be caused by lack of data while integrating behavioral video)\n",
    "\n",
    "    min_len = min(len(neuron_data), len(dlc_data), len(timestamp), len(timestamp[timestamp[\"camNum\"]==camNum[0]]), len(timestamp[timestamp[\"camNum\"]==camNum[0]]))\n",
    "    neuron_data = neuron_data.iloc[0:min_len:]\n",
    "    dlc_data = dlc_data.iloc[0:min_len:]\n",
    "    timestamp[\"frameNum\"] = timestamp[\"frameNum\"] - gap_time + 1 #change of index\n",
    "    timestamp = timestamp[timestamp[\"frameNum\"]<=min_len]\n",
    "    timestamp.index = range(0,len(timestamp))\n",
    "\n",
    "    try:\n",
    "        for ms, behav in zip(timestamp[\"camNum\"],timestamp[\"frameNum\"]):\n",
    "            if ms == 0:\n",
    "                new_order.append(neuron_data.iloc[behav-1].values) # -1 becuase frameNum start from 1 while neuron_data start from 0\n",
    "            else:\n",
    "                new_order.append(dlc_data.iloc[behav-1].values)\n",
    "    except IndexError:\n",
    "        print(\"Neuron data and dlc data are not in the same length, fix by checking the video length for each\")\n",
    "    merge_data = pd.concat([pd.DataFrame(new_order), timestamp[[\"camNum\",\"frameNum\"]]], axis = 1).sort_values(by = \"frameNum\")\n",
    "    msCam = merge_data[merge_data[\"camNum\"]==camNum[0]].dropna(axis = 1).drop(columns = [\"camNum\",\"frameNum\"], axis = 1)\n",
    "    msCam.index = range(1,len(msCam)+1) # for later concatenate\n",
    "    msCam.columns = range(0,len(msCam.columns))\n",
    "\n",
    "    behavCam = merge_data[merge_data[\"camNum\"]==camNum[1]].dropna(axis = 1).drop(columns = [\"camNum\",\"frameNum\"], axis = 1)\n",
    "    behavCam.columns = dlc_data.columns\n",
    "    behavCam.index = range(0,len(behavCam)) # for later concatenate\n",
    "    return (msCam,behavCam)\n"
   ]
  },
  {
   "cell_type": "markdown",
   "metadata": {},
   "source": [
    "### Data Read\n",
    "All the path files that I used stored in filePath.py"
   ]
  },
  {
   "cell_type": "code",
   "execution_count": 3,
   "metadata": {},
   "outputs": [],
   "source": [
    "# Gap time: the time that no mouse presents in the enclosure. For two free-moving mice, ususally 0.\n",
    "gap_time_A = 0\n",
    "gap_time_B = 0\n",
    "\n",
    "neuron_A = pd.read_csv(\"//DMAS-WS2017-006/H/Donghan's Project Data Backup/CNMF-E/1033/Def2/1033_Def2_B_source_extraction/frames_1_18166/LOGS_18-Nov_16_02_51/1033_Def2_B.csv\", header = None).T\n",
    "neuron_B = pd.read_csv(\"//DMAS-WS2017-006/H/Donghan's Project Data Backup/CNMF-E/1033/Def2/1033_Def2_A_source_extraction/frames_1_13008/LOGS_20-Nov_12_51_19/1033_Def2_A.csv\", header = None).T\n",
    "dlc_A = pd.read_csv(\"//DMAS-WS2017-006/H/Donghan's Project Data Backup/DLC_Data/1033 Def2(2)_A, Aug 8, 13 5 2/videos/1033 Def2(2)_A, Aug 8, 13 5 2DeepCut_resnet50_Social_DefeatJul11shuffle1_120000.h.csv\", skiprows = 2)\n",
    "dlc_B = pd.read_csv(\"//DMAS-WS2017-006/H/Donghan's Project Data Backup/DLC_Data/1033 Def2(2)_A, Aug 8, 13 5 2/videos/1033 Def2(2)_B, Aug 8, 13 13 8DeepCut_resnet50_Social_DefeatJul11shuffle1_120000.h.csv\", skiprows = 2)\n",
    "timestamp_A = pd.read_csv(\"//DMAS-WS2017-006/H/Donghan's Project Data Backup/Raw Data/Regular Social Defeat/Round 5/8_8_2018/H13_M5_S2/timestamp.dat\", \\\n",
    "sep='\\t', header = None, skiprows=1, names = [\"camNum\",\"frameNum\",\"sysClock\",\"buffer\"])\n",
    "timestamp_B = pd.read_csv(\"//DMAS-WS2017-006/H/Donghan's Project Data Backup/Raw Data/Regular Social Defeat/Round 5/8_8_2018/H13_M13_S8/timestamp.dat\", \\\n",
    "sep='\\t', header = None, skiprows=1, names = [\"camNum\",\"frameNum\",\"sysClock\",\"buffer\"])\n",
    "timestamp_A = timestamp_A[timestamp_A[\"frameNum\"]>=gap_time_A]\n",
    "timestamp_B = timestamp_B[timestamp_B[\"frameNum\"]>=gap_time_B]"
   ]
  },
  {
   "cell_type": "markdown",
   "metadata": {},
   "source": [
    "   "
   ]
  },
  {
   "cell_type": "markdown",
   "metadata": {},
   "source": [
    "### If use bullying mouse in the enclosure data (enclosure point fixed)"
   ]
  },
  {
   "cell_type": "markdown",
   "metadata": {},
   "source": [
    "\n",
    "  \n",
    "    \n",
    "\n",
    "*Attention*: **pts** is subject to change, which is the corner point of the original video, by pixels. \n",
    "\n",
    "**cagewidth** and **cageheight** is the real dimension of the cage, by centimeter.\n",
    "\n",
    "Order: top-right, top-left, bottom-left, bottom-right. \n",
    "\n",
    "Note that the (0,0) origin pixel point is on the top-right of the video, horizontal is X, vertical is Y."
   ]
  },
  {
   "cell_type": "code",
   "execution_count": null,
   "metadata": {},
   "outputs": [],
   "source": [
    "def distance(data,referencePts):\n",
    "    fixedX = referencePts[0]\n",
    "    fixedY = referencePts[1]\n",
    "    x = data.x\n",
    "    y = data.y\n",
    "    dist = np.sqrt((x - fixedX)**2 + (y - fixedY)**2)\n",
    "    return dist\n",
    "\n",
    "pts = np.array([(85,100),(85,450), (425,440), (420,105)], np.float32)   # four corner points\n",
    "newLoc = locCoordConvert(behavCam,pts,44,44)                            # convert to new location data with new dimension\n",
    "referPt = ptsCoordConvert(pts, [400,270], 44, 44)[0]                    # convert bullying mouse location with new dimension\n",
    "dist = distance(newLoc, referPt)   "
   ]
  },
  {
   "cell_type": "markdown",
   "metadata": {},
   "source": [
    "### If use two free-moving mice data"
   ]
  },
  {
   "cell_type": "code",
   "execution_count": null,
   "metadata": {},
   "outputs": [],
   "source": [
    "def distance(data, pos):\n",
    "    '''\n",
    "    data: dlc data\n",
    "    pos: \"head\", \"body\", \"tail\" for distance calculation\n",
    "    '''\n",
    "    if pos == \"head\":\n",
    "        return np.sqrt((data[\"x\"] - data[\"x.3\"])**2 + (data[\"y\"] - data[\"y.3\"])**2)\n",
    "    elif pos == \"body\":\n",
    "        return np.sqrt((data[\"x.1\"] - data[\"x.4\"])**2 + (data[\"y.1\"] - data[\"y.4\"])**2)\n",
    "    else:\n",
    "        return np.sqrt((data[\"x.2\"] - data[\"x.5\"])**2 + (data[\"y.2\"] - data[\"y.5\"])**2)\n",
    "    \n",
    "cagewidth = 22\n",
    "cageheight = 44\n",
    "distThreshold = 15\n",
    "\n",
    "msCam, behavCam = align(neuron_A, dlc_A, timestamp_A, gap_time_A)      # alignment[0] == aligned neurons_1053B; alignment[1] == aligned dlc_1053B\n",
    "pts = np.array([(40,60),(213,62), (205,405),(42,405)], np.float32)   # four corner points\n",
    "newLoc = locCoordConvert(behavCam,pts,cagewidth, cageheight)           # convert to new location data with new dimension\n",
    "# referPt = ptsCoordConvert(pts, [400,270], 44, 44)[0]                    # convert bullying mouse location with new dimension\n",
    "dist = distance(newLoc, \"head\")                                        # calculate distance between bullying and defeated mouse\n",
    "labeled = [1 if i < distThreshold else 0 for i in dist]                            # if dist < 15, label 1 (has interaction), else 0 (no interaction)\n"
   ]
  },
  {
   "cell_type": "markdown",
   "metadata": {},
   "source": [
    "### Run "
   ]
  },
  {
   "cell_type": "code",
   "execution_count": 4,
   "metadata": {},
   "outputs": [],
   "source": [
    "\n",
    "data = pd.concat([msCam, pd.DataFrame(labeled)], axis=1).dropna(axis = 0)\n",
    "data.columns = list(range(1,len(msCam.columns)+2))                      # avoid duplicate column name\n",
    "data = data.rename(columns={len(msCam.columns)+1:\"interaction\"})\n",
    "\n",
    "(data.groupby(by = \"interaction\").count())\n",
    "# One hot encoding\n",
    "one_hot = pd.get_dummies(data['interaction'])\n",
    "one_hot.columns = [\"interaction.a\", \"interaction.b\"]\n",
    "data = data.drop(\"interaction\", axis = 1).join(one_hot)\n"
   ]
  },
  {
   "cell_type": "markdown",
   "metadata": {},
   "source": [
    "### Optional write to csv file\n",
    "\n",
    "file_name by user choice \n",
    "\n",
    "file ouputs to the same directory"
   ]
  },
  {
   "cell_type": "code",
   "execution_count": 5,
   "metadata": {},
   "outputs": [
    {
     "ename": "NameError",
     "evalue": "name 'file_name' is not defined",
     "output_type": "error",
     "traceback": [
      "\u001b[1;31m---------------------------------------------------------------------------\u001b[0m",
      "\u001b[1;31mNameError\u001b[0m                                 Traceback (most recent call last)",
      "\u001b[1;32m<ipython-input-5-19d1dd04fa10>\u001b[0m in \u001b[0;36m<module>\u001b[1;34m()\u001b[0m\n\u001b[1;32m----> 1\u001b[1;33m \u001b[0mdata\u001b[0m\u001b[1;33m.\u001b[0m\u001b[0mto_csv\u001b[0m\u001b[1;33m(\u001b[0m\u001b[0mfile_name\u001b[0m\u001b[1;33m,\u001b[0m \u001b[0msep\u001b[0m\u001b[1;33m=\u001b[0m\u001b[1;34m'\\t'\u001b[0m\u001b[1;33m)\u001b[0m\u001b[1;33m\u001b[0m\u001b[1;33m\u001b[0m\u001b[0m\n\u001b[0m\u001b[0;32m      2\u001b[0m \u001b[1;31m#OR\u001b[0m\u001b[1;33m\u001b[0m\u001b[1;33m\u001b[0m\u001b[1;33m\u001b[0m\u001b[0m\n\u001b[0;32m      3\u001b[0m \u001b[0mdata\u001b[0m\u001b[1;33m.\u001b[0m\u001b[0mto_csv\u001b[0m\u001b[1;33m(\u001b[0m\u001b[0mfile_name\u001b[0m\u001b[1;33m,\u001b[0m \u001b[0msep\u001b[0m\u001b[1;33m=\u001b[0m\u001b[1;34m'\\t'\u001b[0m\u001b[1;33m,\u001b[0m \u001b[0mencoding\u001b[0m\u001b[1;33m=\u001b[0m\u001b[1;34m'utf-8'\u001b[0m\u001b[1;33m)\u001b[0m\u001b[1;33m\u001b[0m\u001b[1;33m\u001b[0m\u001b[0m\n",
      "\u001b[1;31mNameError\u001b[0m: name 'file_name' is not defined"
     ]
    }
   ],
   "source": [
    "data.to_csv(file_name, sep='\\t')\n",
    "#OR \n",
    "data.to_csv(file_name, sep='\\t', encoding='utf-8')"
   ]
  }
 ],
 "metadata": {
  "kernelspec": {
   "display_name": "Python 3",
   "language": "python",
   "name": "python3"
  },
  "language_info": {
   "codemirror_mode": {
    "name": "ipython",
    "version": 3
   },
   "file_extension": ".py",
   "mimetype": "text/x-python",
   "name": "python",
   "nbconvert_exporter": "python",
   "pygments_lexer": "ipython3",
   "version": "3.6.8"
  }
 },
 "nbformat": 4,
 "nbformat_minor": 2
}
