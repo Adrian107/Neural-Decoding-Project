{
 "cells": [
  {
   "cell_type": "code",
   "execution_count": null,
   "metadata": {},
   "outputs": [],
   "source": [
    "import deeplabcut as dlc\n",
    "path_config_file = r'PROJECT_DIRECTORY\\config.yaml'"
   ]
  },
  {
   "cell_type": "markdown",
   "metadata": {},
   "source": [
    "# Convert .csv to .h5"
   ]
  },
  {
   "cell_type": "code",
   "execution_count": null,
   "metadata": {},
   "outputs": [],
   "source": [
    "dlc.convertcsv2h5(path_config_file)"
   ]
  },
  {
   "cell_type": "markdown",
   "metadata": {},
   "source": [
    "# Convert .h5 to .csv"
   ]
  },
  {
   "cell_type": "code",
   "execution_count": null,
   "metadata": {},
   "outputs": [],
   "source": [
    "video_directory = r'VIDEO_DIRECTORY'\n",
    "dlc.analyze_videos_converth5_to_csv(video_directory)\n",
    "dlc.analyze_videos_converth5_to_csv(video_directory, '.mp4')"
   ]
  },
  {
   "cell_type": "markdown",
   "metadata": {},
   "source": [
    "# Add new videos"
   ]
  },
  {
   "cell_type": "code",
   "execution_count": null,
   "metadata": {},
   "outputs": [],
   "source": [
    "videos = [r'VIDEO_PATHS.avi/mp4']\n",
    "dlc.add_new_videos(path_config_file, videos, copy_videos = True)"
   ]
  },
  {
   "cell_type": "markdown",
   "metadata": {},
   "source": [
    "# Process timestamp to frameMap"
   ]
  },
  {
   "cell_type": "code",
   "execution_count": null,
   "metadata": {},
   "outputs": [],
   "source": [
    "import os\n",
    "os.chdir(r'TIMESTAMP_DIRECTORY')"
   ]
  },
  {
   "cell_type": "code",
   "execution_count": null,
   "metadata": {},
   "outputs": [],
   "source": [
    "import csv\n",
    "import scipy.io as sio\n",
    "\n",
    "frame_map, timestamps = [], []\n",
    "with open('timestamp.dat') as timestamp_file:\n",
    "    r = csv.reader(timestamp_file, delimiter='\\t')\n",
    "    for i in r:\n",
    "        timestamps.append(i)\n",
    "\n",
    "print('First 5 lines of the timestamp file:')\n",
    "for i in timestamps[:5]:\n",
    "    print (*i, sep='\\t')\n",
    "print('Last 5 lines:')\n",
    "for i in timestamps[-5:]:\n",
    "    print (*i, sep='\\t')\n",
    "ca_cam = timestamps[1][0]\n",
    "behav_cam = timestamps[2][0]\n",
    "print('Decide the camNum of calcium imaging:')\n",
    "if (input(ca_cam + '/' + behav_cam) != ca_cam):\n",
    "    ca_cam, behav_cam = behav_cam, ca_cam\n",
    "\n",
    "ca_count, behav_count = 0, 0\n",
    "last_behav_frame = '-1'\n",
    "for i in timestamps[1:]:\n",
    "    if (i[0] == ca_cam):\n",
    "        ca_count += 1\n",
    "    else:\n",
    "        while(behav_count < ca_count):\n",
    "            frame_map.append(i[1])\n",
    "            behav_count += 1\n",
    "        last_behav_frame = i[1]\n",
    "while(behav_count < ca_count):\n",
    "    frame_map.append(last_behav_frame)\n",
    "    behav_count += 1\n",
    "\n",
    "with open('frameMap.csv', 'w', newline='') as frame_map_csv_file:\n",
    "    frame_map_csv_writer = csv.writer(frame_map_csv_file)\n",
    "    for i in frame_map:\n",
    "        frame_map_csv_writer.writerow([i])\n",
    "sio.savemat('frameMap.mat', {'frameMap': [float(i) for i in frame_map]}, oned_as='column')\n",
    "print('A Frame Map (Map of behaviour frames with respect to the calcium imaging frames) has been built as frameMap.csv and frameMap.mat in ' + os.getcwd())\n"
   ]
  }
 ],
 "metadata": {
  "kernelspec": {
   "display_name": "Python 3",
   "language": "python",
   "name": "python3"
  },
  "language_info": {
   "codemirror_mode": {
    "name": "ipython",
    "version": 3
   },
   "file_extension": ".py",
   "mimetype": "text/x-python",
   "name": "python",
   "nbconvert_exporter": "python",
   "pygments_lexer": "ipython3",
   "version": "3.6.8"
  }
 },
 "nbformat": 4,
 "nbformat_minor": 2
}
