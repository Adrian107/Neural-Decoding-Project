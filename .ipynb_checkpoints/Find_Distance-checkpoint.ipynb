{
 "cells": [
  {
   "cell_type": "code",
   "execution_count": 1,
   "metadata": {},
   "outputs": [],
   "source": [
    "import os\n",
    "os.chdir(\"./data/rotated\")"
   ]
  },
  {
   "cell_type": "code",
   "execution_count": 2,
   "metadata": {},
   "outputs": [],
   "source": [
    "import h5py\n",
    "import glob\n",
    "import pandas as pd\n",
    "filenames = glob.glob('*.h5') #Return the file name with extention of .h5\n",
    "f = []\n",
    "for filename in filenames:\n",
    "    f = h5py.File(filename, 'r')\n",
    "    with pd.HDFStore(filename, 'r') as d:\n",
    "        df = d.get(list(f.keys())[0])\n",
    "        df.to_csv('1030 SI_B.csv') #Change to unique file name with specific mouse number"
   ]
  },
  {
   "cell_type": "code",
   "execution_count": 3,
   "metadata": {},
   "outputs": [],
   "source": [
    "data = pd.read_csv(\"1030 SI_B.csv\",skiprows = 2)"
   ]
  },
  {
   "cell_type": "markdown",
   "metadata": {},
   "source": [
    "#### Remove the first ten seconds, which has no mouse in the case (~200 frames)"
   ]
  },
  {
   "cell_type": "code",
   "execution_count": 4,
   "metadata": {},
   "outputs": [],
   "source": [
    "move_data = data.loc[200:]"
   ]
  },
  {
   "cell_type": "code",
   "execution_count": 5,
   "metadata": {
    "scrolled": true
   },
   "outputs": [
    {
     "data": {
      "text/plain": [
       "200     143.472577\n",
       "201     139.443060\n",
       "202     133.387474\n",
       "203     123.972194\n",
       "204     123.128492\n",
       "205     116.389688\n",
       "206     113.556673\n",
       "207     110.684161\n",
       "208     107.711663\n",
       "209     105.451987\n",
       "210     101.887106\n",
       "211     100.777554\n",
       "212     100.429878\n",
       "213      99.376968\n",
       "214      99.629581\n",
       "215     100.054837\n",
       "216      97.637406\n",
       "217      99.903324\n",
       "218      99.379783\n",
       "219      97.944900\n",
       "220      94.501385\n",
       "221      96.665689\n",
       "222      94.490472\n",
       "223      97.131853\n",
       "224      95.924850\n",
       "225      96.281713\n",
       "226      97.485253\n",
       "227      97.052868\n",
       "228      97.918185\n",
       "229      98.901521\n",
       "           ...    \n",
       "3191    184.704273\n",
       "3192    189.795464\n",
       "3193    191.437036\n",
       "3194    189.465643\n",
       "3195    188.980317\n",
       "3196    192.179429\n",
       "3197    195.689515\n",
       "3198    196.655269\n",
       "3199    203.150516\n",
       "3200    207.592289\n",
       "3201    214.084136\n",
       "3202    220.584455\n",
       "3203    228.952477\n",
       "3204    229.353621\n",
       "3205    234.969413\n",
       "3206    239.823728\n",
       "3207    241.957963\n",
       "3208    240.916631\n",
       "3209    238.217214\n",
       "3210    234.989115\n",
       "3211    230.672019\n",
       "3212    225.132150\n",
       "3213    221.684740\n",
       "3214    228.357300\n",
       "3215    226.303417\n",
       "3216    231.516723\n",
       "3217    234.035634\n",
       "3218    236.961295\n",
       "3219    243.846899\n",
       "3220    246.909760\n",
       "Length: 3021, dtype: float64"
      ]
     },
     "execution_count": 5,
     "metadata": {},
     "output_type": "execute_result"
    }
   ],
   "source": [
    "#Distance bewteen defeated mouse head and encloser\n",
    "#Encloser coordination axis need modification\n",
    "import numpy as np \n",
    "def cal_dist(data): \n",
    "    fixedX = 50\n",
    "    fixedY = 200\n",
    "    x = data[\"x\"]\n",
    "    y = data[\"y\"]\n",
    "    dist = np.sqrt((x - fixedX)**2 + (y - fixedY)**2)  \n",
    "    return dist  \n",
    "cal_dist(move_data)  "
   ]
  },
  {
   "cell_type": "code",
   "execution_count": 25,
   "metadata": {
    "scrolled": true
   },
   "outputs": [
    {
     "data": {
      "text/plain": [
       "[[0, 0, 0, 0, 0],\n",
       " [13.958820789493547,\n",
       "  9.62658949279333,\n",
       "  5.674951668262826,\n",
       "  14.339821849482709,\n",
       "  9.770007607351786]]"
      ]
     },
     "execution_count": 25,
     "metadata": {},
     "output_type": "execute_result"
    }
   ],
   "source": [
    "200#Head Direction\n",
    "# Reference\n",
    "# https://stackoverflow.com/questions/42258637/how-to-know-the-angle-between-two-point\n",
    "\n",
    "from math import degrees, atan2\n",
    "def head_dir(data):\n",
    "    p1 = pd.concat([data[\"x\"], data[\"y\"]],axis=1)\n",
    "    p2 = pd.concat([data[\"x.1\"], data[\"y.1\"]], axis = 1, keys=['x', 'y'])\n",
    "    xDiff = p2.x - p1.x\n",
    "    yDiff = p2.y - p1.y\n",
    "    direction = []\n",
    "    degreeL = []\n",
    "    for i in range(0,len(xDiff)):\n",
    "        degree = degrees(atan2(tuple(yDiff)[i], tuple(xDiff)[i]))\n",
    "        degreeL.append(degree)\n",
    "        if degree >= 90 and degree <= -90: \n",
    "            direction.append(1)\n",
    "        else: \n",
    "            direction.append(0)\n",
    "    return (direction, degreeL)\n",
    "\n",
    "[x[0:5] for x in head_dir(move_data)]\n",
    "# Whether the mouse's direction towards bullying mouse or not, 1: yes; 0: no\n",
    "# The degree of head direction, clockwise."
   ]
  },
  {
   "cell_type": "code",
   "execution_count": 46,
   "metadata": {},
   "outputs": [],
   "source": [
    "#Anotations of bahavior definition\n",
    "\n",
    "# Approaching the interaction zone (area around the enclosure)\n",
    "# Avoiding the interaction zone - this could include instances where the animal enters the 1/2 of the chamber containing the enclosure + the head direction is facing the enclosure, but it doesn't enter the interaction zone\n",
    "# Sniffing/directly interacting with the enclosure\n",
    "# Sitting in the corners (2 corners closest to enclosure vs 2 far corners)\n",
    "\n",
    "def annotate(interactionXL = 70, interactionXR = 171, interactionYUpper = 307, interactionYLower = 116, enclosureX = 134, enclosureYLower = 146, enclosureYUpper = 256, corX = 315, corUppRY = 302, corLowRY = 124, MidLineX = 190, data = data):\n",
    "    posX = data['x'].tolist()\n",
    "    posY = data['y'].tolist()\n",
    "    head = head_dir(data)[0] #Whether the head is facing enclosure\n",
    "    label = []\n",
    "    for i in range(0, len(posX)):\n",
    "        if posX[i] < interactionXR and posY[i] < interactionYUpper and posY[i] > interactionYLower: #Approaching\n",
    "            label.append(1)\n",
    "        elif posX[i] <= MidLineX and posX[i] > interactionXR and (posY[i] > interactionYUpper or posY[i] < interactionYLower) and head[i] == 1: #Avoidance\n",
    "            label.append(2)\n",
    "        elif posX[i] < enclosureX and posY[i] > enclosureYLower and posY[i] < enclosureYUpper: #Sniffing\n",
    "            label.append(3)\n",
    "        elif (posX[i] > corX and posY[i] < corLowRY) or (posX[i] > corX and posY[i] > corUppRY): #Sitting in the corners\n",
    "            label.append(4)\n",
    "        else: #Other cases\n",
    "            label.append(5)\n",
    "    return label\n",
    "    "
   ]
  },
  {
   "cell_type": "code",
   "execution_count": 10,
   "metadata": {
    "scrolled": true
   },
   "outputs": [],
   "source": [
    "import numpy as np\n",
    "import cv2\n",
    "import glob\n",
    "os.chdir(\"/home/donghan/DeepLabCut/data\")\n",
    "def rotate(image, angle, center=None, scale=1):\n",
    "    rows,cols,ch = image.shape\n",
    "    center = (cols / 2, rows / 2)\n",
    "    M = cv2.getRotationMatrix2D(center, angle, scale)\n",
    "    dst = cv2.warpAffine(image,M,(cols,rows))\n",
    "    return dst\n",
    "\n",
    "\n",
    "def videorotate(filename, output_name, display_video = False):\n",
    "    # capture video\n",
    "    cap = cv2.VideoCapture(filename)\n",
    "\n",
    "    #descripe a loop\n",
    "    #read video frame by frame\n",
    "    sz = (int(cap.get(cv2.CAP_PROP_FRAME_WIDTH)),\n",
    "            int(cap.get(cv2.CAP_PROP_FRAME_HEIGHT)))\n",
    "\n",
    "    fourcc = int(cap.get(cv2.CAP_PROP_FOURCC))\n",
    "\n",
    "    fps = int(cap.get(cv2.CAP_PROP_FPS))\n",
    "\n",
    "    \n",
    "    path = \"./rotated\"\n",
    "    try:  \n",
    "        os.mkdir(path)\n",
    "    except OSError:  \n",
    "        pass\n",
    "    else:  \n",
    "        print (\"Successfully created the directory %s \" % path)\n",
    "        \n",
    "                \n",
    "    file = \"./rotated/\" + output_name\n",
    "    out = cv2.VideoWriter(file, cv2.VideoWriter_fourcc('M', 'J', 'P', 'G'), fps, sz)\n",
    "\n",
    "    while(cap.isOpened()):\n",
    "        #flip for truning(fliping) frames of video\n",
    "        ret,img = cap.read()\n",
    "        try:\n",
    "            img2 = rotate(img, -4.5) #Flipped Vertically\n",
    "            out.write(img2)\n",
    "            if display_video == True:\n",
    "                cv2.imshow('rotated video',img2) \n",
    "\n",
    "            k=cv2.waitKey(30) & 0xff\n",
    "            #once you inter Esc capturing will stop\n",
    "            if k==27:\n",
    "                break\n",
    "        except:\n",
    "            print (filename, 'successfully rotated!!!' )\n",
    "            break\n",
    "    cap.release()\n",
    "    out.release()\n",
    "    cv2.destroyAllWindows()\n",
    "    \n",
    "# filenames = glob.glob('*.mp4') #Return the file name with .mp4 extention \n",
    "# for i in filenames:\n",
    "#     videorotate(i,os.path.splitext(i)[0] + \" rotated.mp4\", True)\n",
    "# #     print(os.path.splitext(i)[0] + \" rotated.mp4\")"
   ]
  }
 ],
 "metadata": {
  "kernelspec": {
   "display_name": "Python 3",
   "language": "python",
   "name": "python3"
  },
  "language_info": {
   "codemirror_mode": {
    "name": "ipython",
    "version": 3
   },
   "file_extension": ".py",
   "mimetype": "text/x-python",
   "name": "python",
   "nbconvert_exporter": "python",
   "pygments_lexer": "ipython3",
   "version": "3.6.8"
  }
 },
 "nbformat": 4,
 "nbformat_minor": 2
}
