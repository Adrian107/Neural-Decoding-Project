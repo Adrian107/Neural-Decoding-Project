{
 "cells": [
  {
   "cell_type": "code",
   "execution_count": 97,
   "metadata": {},
   "outputs": [],
   "source": [
    "import cv2\n",
    "import os\n",
    "from time import time\n",
    "import glob\n",
    "import h5py\n",
    "import pandas as pd\n",
    "from math import radians, degrees, atan2, sqrt"
   ]
  },
  {
   "cell_type": "code",
   "execution_count": 5,
   "metadata": {},
   "outputs": [],
   "source": [
    "os.chdir(\"/home/donghan/DeepLabCut/data/\")\n",
    "filenames = glob.glob('*.h5') \n",
    "#Return the file name with extention of .h5, which contain the data of coordination axis\n",
    "f = []\n",
    "for filename in filenames:\n",
    "    f = h5py.File(filename, 'r')\n",
    "    start = filename.find('10') \n",
    "    #Find the string that start with \"10\"\n",
    "    end = filename.find(' rotated', start) \n",
    "    #Return the string with end of \" rotated\", aims to name the file\n",
    "    csvfile = []\n",
    "    with pd.HDFStore(filename, 'r') as d:\n",
    "        df = d.get(list(f.keys())[0])\n",
    "        df.to_csv(filename[start:end] + '.csv') \n",
    "        #Automaticaly change to unique file name with specific mouse number\n",
    "        csvfile.append(filename[start:end] + '.csv')\n",
    "for i in csvfile:\n",
    "    data = pd.read_csv(i, skiprows = 2) \n",
    "    #Skip the rows of scorer and bodyparts\n",
    "    move_data = data.loc[300:] "
   ]
  },
  {
   "cell_type": "code",
   "execution_count": null,
   "metadata": {},
   "outputs": [],
   "source": [
    "def videoWriter(task, filename, outputName, corrX, corrY, distX, distY, displayVideo = False):\n",
    "    \n",
    "    '''\n",
    "    Task: Takes video as input and returns its capturing and output file. \n",
    "    \n",
    "    If task is edited, then corrX and corrY is the vertex of the cropped video edge. \n",
    "    '''\n",
    "\n",
    "    # Capture video\n",
    "    cap = cv2.VideoCapture(filename)\n",
    "\n",
    "    # Read video frame by frame\n",
    "    # Extract original video frame features\n",
    "    sz = (int(cap.get(cv2.CAP_PROP_FRAME_WIDTH)),\n",
    "            int(cap.get(cv2.CAP_PROP_FRAME_HEIGHT)))\n",
    "\n",
    "    fourcc = int(cap.get(cv2.CAP_PROP_FOURCC))\n",
    "\n",
    "    fps = int(cap.get(cv2.CAP_PROP_FPS))\n",
    "    # Make a directory to store the processed videos\n",
    "    path = \"./\" + task\n",
    "    try:  \n",
    "        os.mkdir(path)\n",
    "        print (\"Successfully created the directory %s \" % path)\n",
    "    except OSError:  \n",
    "        pass\n",
    "    \n",
    "\n",
    "    #Automatically name the processed videos  \n",
    "    file = \"./\" + task + \"/\" + outputName\n",
    "    if task == \"edited\":\n",
    "        out = cv2.VideoWriter(file, cv2.VideoWriter_fourcc('M', 'J', 'P', 'G'), fps, (distY, distX)) \n",
    "        # Another option: cv2.VideoWriter_fourcc(*'XVID')\n",
    "    else:\n",
    "        out = cv2.VideoWriter(file, cv2.VideoWriter_fourcc('M', 'J', 'P', 'G'), fps, sz)\n",
    "\n",
    "    return cap,out\n",
    "    \n",
    "def videoCropper(filename, outputName, corrX, corrY, distX, distY, displayVideo = False):\n",
    "\n",
    "    '''\n",
    "    Task: Crop videos to actural mouse moving edge\n",
    "    \n",
    "    PARAMETERS:\n",
    "    video: file that await for writting\n",
    "    \n",
    "    filename: video that need to be trim\n",
    "    \n",
    "    outputName: filename of output video\n",
    "    \n",
    "    corrX: coordinates of the start point in X\n",
    "    \n",
    "    corrY: coordinates of the start point in Y\n",
    "    \n",
    "    dist: cropped video is a square, as long as the coordinates of the start point is defined, the other\n",
    "    three vertex points are clear. \n",
    "\n",
    "    '''\n",
    "    # Calculate the other three points' coordinate\n",
    "    corrX1 = corrX + distX\n",
    "    corrY1 = corrY + distY\n",
    "\n",
    "    video = videoWriter(\"edited\", filename, outputName, corrX, corrY, distX, distY, displayVideo)\n",
    "    cap = video[0] \n",
    "    out = video[1]                  \n",
    "    frameCnt = cap.get(cv2.CAP_PROP_FRAME_COUNT)\n",
    "    # Not capturing a video\n",
    "    if (cap.isOpened() == False): \n",
    "          print(\"Unable to read video\")\n",
    "    count = 1\n",
    "    # Read videos and rotate by certain degrees\n",
    "    while(cap.isOpened()):\n",
    "        # Flip for truning(fliping) frames of video\n",
    "        ret,img = cap.read()\n",
    "        try:\n",
    "            img2 = img[corrX:corrX1, corrY:corrY1]\n",
    "            out.write(img2)\n",
    "            if displayVideo == True:\n",
    "                cv2.imshow('edited video',img2) \n",
    "            if count == frameCnt:\n",
    "                print (filename, 'successfully ', \"edited!\")\n",
    "                break\n",
    "            else:\n",
    "                count += 1\n",
    "            k=cv2.waitKey(30) & 0xff\n",
    "            #once you inter Esc capturing will stop\n",
    "            if k==27:\n",
    "                break\n",
    "        except:\n",
    "            break\n",
    "    cap.release()\n",
    "    out.release()\n",
    "    cv2.destroyAllWindows()\n",
    "    \n",
    "\n",
    "    \n",
    "def getCoord(data):\n",
    "    '''\n",
    "    Task: Obtaining the coordinates of cropped points\n",
    "    \n",
    "    data: DataFrame\n",
    "    Mouse moving location, by pixel\n",
    "    \n",
    "    !!! We are assuming that the mouse at least reaches the boundary once\n",
    "    '''\n",
    "    x = sorted(data['x'], reverse = True)\n",
    "    y = sorted(data['y'], reverse = True)\n",
    "    \n",
    "    # Try to exclude outliers\n",
    "    for i in range(10):\n",
    "        xMax = round(x[i + 1]) if x[i] - x[i + 1] >= 1 else round(x[i])\n",
    "        \n",
    "        xMin = round(x[-i-1]) if x[-i] - x[-i-1] >= 1 else round(x[-i])\n",
    "            \n",
    "        yMax = round(y[i + 1]) if y[i] - y[i + 1] >= 1 else round(y[i])\n",
    "\n",
    "        yMin = round(y[-i-1]) if y[-i] - y[-i-1] >= 1 else round(y[-i])\n",
    "    \n",
    "    lengthX = xMax - xMin\n",
    "    lengthY = yMax - yMin\n",
    "    \n",
    "    \n",
    "    return xMin, yMin, lengthX, lengthY\n",
    "\n",
    "\n",
    "\n",
    "def dataModifier(data):\n",
    "    '''\n",
    "    Task: Modify the location data based on the cropped video\n",
    "    \n",
    "    data: DataFrame\n",
    "    '''\n",
    "    \n",
    "    x, y, lengthX, lengthY = getCoord(data)\n",
    "    filtered = data.copy(deep = True)\n",
    "    filtered = filtered[(filtered['y']>x) & (filtered['x']>y)]\n",
    "    filtered['x'] = filtered['x'] - y\n",
    "    filtered['y'] = filtered['y'] - x\n",
    "    filtered['coords'] = list(range(1,len(filtered)+1))\n",
    "    filtered.index = list(range(1,len(filtered)+1))\n",
    "    \n",
    "    return filtered"
   ]
  },
  {
   "cell_type": "code",
   "execution_count": null,
   "metadata": {},
   "outputs": [],
   "source": []
  },
  {
   "cell_type": "code",
   "execution_count": null,
   "metadata": {},
   "outputs": [],
   "source": []
  },
  {
   "cell_type": "code",
   "execution_count": null,
   "metadata": {},
   "outputs": [],
   "source": [
    "def head_dir(data):\n",
    "    p1 = pd.concat([data[\"x\"], data[\"y\"]],axis=1)\n",
    "    p2 = pd.concat([data[\"x.1\"], data[\"y.1\"]], axis = 1, keys=['x', 'y']) \n",
    "    #Reassign column names\n",
    "    xDiff = p1.x - p2.x\n",
    "    yDiff = p1.y - p2.y\n",
    "    direction = []\n",
    "    degreeL = []\n",
    "    for i in range(0,len(xDiff)):\n",
    "        degree = degrees(atan2(tuple(yDiff)[i], tuple(xDiff)[i]))\n",
    "#         if degree < 0:\n",
    "#             degree += 360\n",
    "#             degreeL.append(degree)\n",
    "#         else:\n",
    "        degreeL.append(degree)\n",
    "        if (degree >= 90 and degree <= 180) or (degree <= -90 and degree >= -180): \n",
    "            #Facing encloser\n",
    "            direction.append(1)\n",
    "        else: \n",
    "            direction.append(0) \n",
    "            #Facing other side\n",
    "    return (direction, degreeL)\n",
    "# Whether the mouse's direction towards bullying mouse or not, 1: yes; 0: no\n",
    "# The degree of head direction, clockwise.\n"
   ]
  },
  {
   "cell_type": "code",
   "execution_count": 96,
   "metadata": {},
   "outputs": [],
   "source": [
    "def quadrant(a, b): \n",
    "    '''\n",
    "    Task: Check if two points are in the same quadrant\n",
    "    '''\n",
    "    if ((a[0] > 0 and b[0] > 0) or (a[0] < 0 and b[0] < 0)) and ((a[1] > 0 and b[1] > 0) or (a[1] < 0 and b[1] < 0)):\n",
    "            return True\n",
    "    else:\n",
    "        return False\n",
    "    \n",
    "def getAngle(a, b, c):\n",
    "    '''\n",
    "    Task: Calculate angle between three points. \n",
    "    \n",
    "    PARAMETERS\n",
    "    -----------\n",
    "    a, b, c: tuple\n",
    "        Three points in the coordinate system\n",
    "    '''\n",
    "    cb = atan2(c[1]-b[1], c[0]-b[0])\n",
    "    ab = atan2(a[1]-b[1], a[0]-b[0])\n",
    "\n",
    "    # If they are in the same quadrant: acute angle\n",
    "    if quadrant(c, b) and quadrant(a, b):\n",
    "        angle = degrees(cb - ab)\n",
    "    else:\n",
    "    # Obtuse angle or in different quadrant\n",
    "        rad360 = radians(360)\n",
    "        cb = rad360 + cb if cb < 0 else cb\n",
    "        ab = rad360 + ab if ab < 0 else ab\n",
    "        angle = abs(degrees(cb - ab))\n",
    "    return angle + 360 if angle < 0 else angle\n",
    "\n",
    "def getDist(a, b):\n",
    "    '''\n",
    "    Task: Calculate distance\n",
    "    '''\n",
    "    dist = sqrt((b[0] - a[0])**2 + (b[1] - a[1])**2)  \n",
    "    return dist  "
   ]
  },
  {
   "cell_type": "code",
   "execution_count": 103,
   "metadata": {},
   "outputs": [],
   "source": [
    "def calDist_Angle(data, enclosure):\n",
    "    '''\n",
    "    Task: Calculate distance and angle between enclosure and defeated mouse\n",
    "    reference point is the center point of head of tail regarding Angle\n",
    "    head point for Distance\n",
    "    \n",
    "    Parameters\n",
    "    ----------\n",
    "    data: DataFrame\n",
    "        Read location data\n",
    "    \n",
    "    enclosure: tuple\n",
    "        enclosure's coordinate, ex. (68,204)\n",
    "    '''\n",
    "    head = pd.concat([data[\"x\"], data[\"y\"]],axis=1)\n",
    "    tail = pd.concat([data[\"x.1\"], data[\"y.1\"]], axis = 1, keys=['x', 'y']) \n",
    "    # Head--------------------Tail-----------\n",
    "    mid = (p1.x + p2.x) / 2, (p1.y + p2.y) / 2\n",
    "    # Avoid Pandas KeyError\n",
    "    mid = np.array(mid)\n",
    "    x = np.array(p1.x)\n",
    "    y = np.array(p1.y)\n",
    "    \n",
    "    angle = []\n",
    "    dist = []\n",
    "    for i in range(len(p1)):\n",
    "        # Set middle point of the mouse to be (0,0), then calculate the corresponding relative converted coordinates\n",
    "        # Order: head relative location, central point, enclosure relative location\n",
    "        angle.append(getAngle((x[i] - mid[0][i], y[i] - mid[1][i]),(0, 0), (enclosure[0] - mid[0][i], enclosure[1] - mid[1][i])))\n",
    "        dist.append(getDist((mid[0][i], mid[1][i]), enclosure))\n",
    "    return angle, dist"
   ]
  },
  {
   "cell_type": "code",
   "execution_count": 114,
   "metadata": {},
   "outputs": [
    {
     "ename": "TypeError",
     "evalue": "'>' not supported between instances of 'list' and 'int'",
     "output_type": "error",
     "traceback": [
      "\u001b[0;31m---------------------------------------------------------------------------\u001b[0m",
      "\u001b[0;31mTypeError\u001b[0m                                 Traceback (most recent call last)",
      "\u001b[0;32m<ipython-input-114-9634b117ab4b>\u001b[0m in \u001b[0;36m<module>\u001b[0;34m\u001b[0m\n\u001b[0;32m----> 1\u001b[0;31m \u001b[0mcalDist_Angle\u001b[0m\u001b[0;34m(\u001b[0m\u001b[0mdata\u001b[0m\u001b[0;34m,\u001b[0m \u001b[0;34m(\u001b[0m\u001b[0;36m68\u001b[0m\u001b[0;34m,\u001b[0m\u001b[0;36m204\u001b[0m\u001b[0;34m)\u001b[0m\u001b[0;34m)\u001b[0m\u001b[0;34m[\u001b[0m\u001b[0;36m1\u001b[0m\u001b[0;34m]\u001b[0m\u001b[0;34m>\u001b[0m\u001b[0;36m180\u001b[0m\u001b[0;34m\u001b[0m\u001b[0;34m\u001b[0m\u001b[0m\n\u001b[0m",
      "\u001b[0;31mTypeError\u001b[0m: '>' not supported between instances of 'list' and 'int'"
     ]
    }
   ],
   "source": [
    "for i, value in enumerate(calDist_Angle(data, (68,204))[1]):\n",
    "    if "
   ]
  },
  {
   "cell_type": "code",
   "execution_count": null,
   "metadata": {},
   "outputs": [],
   "source": []
  },
  {
   "cell_type": "code",
   "execution_count": null,
   "metadata": {},
   "outputs": [],
   "source": []
  },
  {
   "cell_type": "code",
   "execution_count": null,
   "metadata": {},
   "outputs": [],
   "source": []
  },
  {
   "cell_type": "code",
   "execution_count": null,
   "metadata": {},
   "outputs": [],
   "source": []
  },
  {
   "cell_type": "code",
   "execution_count": 187,
   "metadata": {},
   "outputs": [],
   "source": [
    "# import the necessary packages\n",
    "import numpy as np\n",
    "import cv2\n",
    " \n",
    "def orderPoints(pts):\n",
    "    # initialzie a list of coordinates that will be ordered\n",
    "    # such that the first entry in the list is the top-left,\n",
    "    # the second entry is the top-right, the third is the\n",
    "    # bottom-right, and the fourth is the bottom-left\n",
    "    rect = np.zeros((4, 2), dtype = \"float32\")\n",
    "\n",
    "    # the top-left point will have the smallest sum, whereas\n",
    "    # the bottom-right point will have the largest sum\n",
    "    s = pts.sum(axis = 1)\n",
    "    rect[0] = pts[np.argmin(s)]\n",
    "    rect[2] = pts[np.argmax(s)]\n",
    "\n",
    "    # now, compute the difference between the points, the\n",
    "    # top-right point will have the smallest difference,\n",
    "    # whereas the bottom-left will have the largest difference\n",
    "    diff = np.diff(pts, axis = 1)\n",
    "    rect[1] = pts[np.argmin(diff)]\n",
    "    rect[3] = pts[np.argmax(diff)]\n",
    "\n",
    "    # return the ordered coordinates\n",
    "    return rect\n",
    "\n",
    "def fourPointTransform(image, pts):\n",
    "    # obtain a consistent order of the points and unpack them\n",
    "    # individually\n",
    "    rect = orderPoints(pts)\n",
    "    (tl, tr, br, bl) = rect\n",
    "\n",
    "    # compute the width of the new image, which will be the\n",
    "    # maximum distance between bottom-right and bottom-left\n",
    "    # x-coordiates or the top-right and top-left x-coordinates\n",
    "    widthA = np.sqrt(((br[0] - bl[0]) ** 2) + ((br[1] - bl[1]) ** 2))\n",
    "    widthB = np.sqrt(((tr[0] - tl[0]) ** 2) + ((tr[1] - tl[1]) ** 2))\n",
    "    maxWidth = max(int(widthA), int(widthB))\n",
    "\n",
    "    # compute the height of the new image, which will be the\n",
    "    # maximum distance between the top-right and bottom-right\n",
    "    # y-coordinates or the top-left and bottom-left y-coordinates\n",
    "    heightA = np.sqrt(((tr[0] - br[0]) ** 2) + ((tr[1] - br[1]) ** 2))\n",
    "    heightB = np.sqrt(((tl[0] - bl[0]) ** 2) + ((tl[1] - bl[1]) ** 2))\n",
    "    maxHeight = max(int(heightA), int(heightB))\n",
    "\n",
    "    # now that we have the dimensions of the new image, construct\n",
    "    # the set of destination points to obtain a \"birds eye view\",\n",
    "    # (i.e. top-down view) of the image, again specifying points\n",
    "    # in the top-left, top-right, bottom-right, and bottom-left\n",
    "    # order\n",
    "    dst = np.array([\n",
    "        [0, 0],\n",
    "        [maxWidth - 1, 0],\n",
    "        [maxWidth - 1, maxHeight - 1],\n",
    "        [0, maxHeight - 1]], dtype = \"float32\")\n",
    "\n",
    "    # compute the perspective transform matrix and then apply it\n",
    "    M = cv2.getPerspectiveTransform(rect, dst)\n",
    "    warped = cv2.warpPerspective(image, M, (maxWidth, maxHeight))\n",
    "\n",
    "    # return the warped image\n",
    "    return warped, M\n",
    "\n"
   ]
  },
  {
   "cell_type": "code",
   "execution_count": 130,
   "metadata": {},
   "outputs": [
    {
     "data": {
      "text/plain": [
       "True"
      ]
     },
     "execution_count": 130,
     "metadata": {},
     "output_type": "execute_result"
    }
   ],
   "source": [
    "pts = np.array([(28,39),(74,387),(364,23),(377,336)])\n",
    "img = cv2.imread(\"test2.jpg\")\n",
    "cv2.imwrite(\"test10.jpg\",fourPointTransform(img, pts)[0])"
   ]
  },
  {
   "cell_type": "code",
   "execution_count": 195,
   "metadata": {},
   "outputs": [],
   "source": [
    "def locDataConvert(data, pts):\n",
    "    '''\n",
    "    Task: Convert mouse location data to prospective coordicates after correcting coord system.\n",
    "    \n",
    "    PARAMETERS:\n",
    "    -----------\n",
    "    pts: list\n",
    "        list of four corner points of the video\n",
    "    '''\n",
    "    # Transformation matrix\n",
    "    matrix = fourPointTransform(img, pts)[1]\n",
    "    # x, y, 1\n",
    "    head = pd.concat([data[\"x\"], data[\"y\"], pd.DataFrame([1]*len(data))],axis=1).values.transpose()\n",
    "    tail = pd.concat([data[\"x.1\"], data[\"y.1\"], pd.DataFrame([1]*len(data))], axis = 1, keys=['x', 'y', 'constant']).values.transpose()\n",
    "    \n",
    "    transformedHead = np.dot(matrix, head)\n",
    "    transformedTail = np.dot(matrix, tail)\n",
    "    \n",
    "    return transformedHead, transformedTail\n",
    "\n",
    "\n"
   ]
  },
  {
   "cell_type": "code",
   "execution_count": null,
   "metadata": {},
   "outputs": [],
   "source": []
  },
  {
   "cell_type": "code",
   "execution_count": null,
   "metadata": {},
   "outputs": [],
   "source": []
  },
  {
   "cell_type": "code",
   "execution_count": null,
   "metadata": {},
   "outputs": [],
   "source": []
  },
  {
   "cell_type": "code",
   "execution_count": 164,
   "metadata": {},
   "outputs": [
    {
     "data": {
      "text/plain": [
       "410.02155987844924"
      ]
     },
     "execution_count": 164,
     "metadata": {},
     "output_type": "execute_result"
    }
   ],
   "source": [
    "np.dot(four_point_transform(img, pts)[1][0] , pd.concat([p1,pd.DataFrame([1]*len(p1))], axis = 1).values[0])"
   ]
  },
  {
   "cell_type": "code",
   "execution_count": 148,
   "metadata": {},
   "outputs": [
    {
     "data": {
      "text/plain": [
       "238.896642971538"
      ]
     },
     "execution_count": 148,
     "metadata": {},
     "output_type": "execute_result"
    }
   ],
   "source": [
    "0.86189*364 - 0.113929*483.998078 - 19.6899"
   ]
  },
  {
   "cell_type": "code",
   "execution_count": null,
   "metadata": {},
   "outputs": [],
   "source": []
  },
  {
   "cell_type": "code",
   "execution_count": null,
   "metadata": {},
   "outputs": [],
   "source": []
  },
  {
   "cell_type": "code",
   "execution_count": null,
   "metadata": {},
   "outputs": [],
   "source": []
  },
  {
   "cell_type": "code",
   "execution_count": null,
   "metadata": {},
   "outputs": [],
   "source": []
  },
  {
   "cell_type": "code",
   "execution_count": null,
   "metadata": {},
   "outputs": [],
   "source": []
  },
  {
   "cell_type": "code",
   "execution_count": null,
   "metadata": {},
   "outputs": [],
   "source": [
    "csvfile"
   ]
  },
  {
   "cell_type": "code",
   "execution_count": null,
   "metadata": {
    "scrolled": true
   },
   "outputs": [],
   "source": [
    "test = move_data\n",
    "test"
   ]
  },
  {
   "cell_type": "code",
   "execution_count": null,
   "metadata": {},
   "outputs": [],
   "source": [
    "import numpy as np\n",
    "pd.options.mode.chained_assignment = None\n",
    "p['coords'] = list(range(1,len(p)+1))\n",
    "p.index = list(range(1,len(p)+1))"
   ]
  },
  {
   "cell_type": "code",
   "execution_count": null,
   "metadata": {
    "scrolled": true
   },
   "outputs": [],
   "source": [
    "p"
   ]
  },
  {
   "cell_type": "code",
   "execution_count": null,
   "metadata": {
    "scrolled": true
   },
   "outputs": [],
   "source": [
    "p = test[(test['y']>54) & (test['x']>38)]"
   ]
  },
  {
   "cell_type": "code",
   "execution_count": null,
   "metadata": {
    "scrolled": true
   },
   "outputs": [],
   "source": [
    "test = move_data['x'] - 38\n",
    "test[test>0]"
   ]
  },
  {
   "cell_type": "code",
   "execution_count": null,
   "metadata": {},
   "outputs": [],
   "source": [
    "def videoWriter(task, filename, outputName, corrX = None, corrY = None, dist = 320, displayVideo = False):\n",
    "    \n",
    "    '''\n",
    "    Task: Takes video as input and returns its capturing and output file. \n",
    "    \n",
    "    If task is edited, then corrX and corrY is the vertex of the cropped video edge. \n",
    "    '''\n",
    "\n",
    "    # Capture video\n",
    "    cap = cv2.VideoCapture(filename)\n",
    "\n",
    "    # Read video frame by frame\n",
    "    # Extract original video frame features\n",
    "    sz = (int(cap.get(cv2.CAP_PROP_FRAME_WIDTH)),\n",
    "            int(cap.get(cv2.CAP_PROP_FRAME_HEIGHT)))\n",
    "\n",
    "    fourcc = int(cap.get(cv2.CAP_PROP_FOURCC))\n",
    "\n",
    "    fps = int(cap.get(cv2.CAP_PROP_FPS))\n",
    "    # Make a directory to store the processed videos\n",
    "    path = \"./\" + task\n",
    "    try:  \n",
    "        os.mkdir(path)\n",
    "        print (\"Successfully created the directory %s \" % path)\n",
    "    except OSError:  \n",
    "        pass\n",
    "\n",
    "    #Automatically name the processed videos  \n",
    "    file = \"./\" + task + \"/\" + outputName\n",
    "    if task == \"edited\":\n",
    "        out = cv2.VideoWriter(file, cv2.VideoWriter_fourcc('M', 'J', 'P', 'G'), fps, (dist, dist)) \n",
    "        # Another option: cv2.VideoWriter_fourcc(*'XVID')\n",
    "    else:\n",
    "        out = cv2.VideoWriter(file, cv2.VideoWriter_fourcc('M', 'J', 'P', 'G'), fps, sz)\n",
    "\n",
    "    return cap,out\n",
    "\n",
    "def fieldOfView(data, filename, outputName, radius, rotationAngle, color, viewRange, thickness, displayVideo = False):\n",
    "    '''    \n",
    "    Task: draw sector for field of view\n",
    "\n",
    "    All input parameters must be Int\n",
    "\n",
    "    PARAMETERS:\n",
    "\n",
    "    data: mouse movement that read from .h5 file, including head and tail. \n",
    "\n",
    "    angle: 0, rotation angle\n",
    "\n",
    "    radius: radius of the sector, millimeter\n",
    "\n",
    "    color: sector line color\n",
    "\n",
    "    viewRange: range that the mouse has vision on\n",
    "\n",
    "    thickness: the thickness of the sector line\n",
    "\n",
    "    '''\n",
    "\n",
    "    #Obtain coordinates data for head and tail, as well as the head direction by degrees\n",
    "    \n",
    "\n",
    "    head = zip(round(data['x']).astype(int), round(data['y']).astype(int))\n",
    "    tail = zip(round(data['x.1']).astype(int), round(data['y.1']).astype(int))\n",
    "    degrees = head_dir(data)[1]\n",
    "    \n",
    "    #Get pixel to mm conversion\n",
    "    x, y, lengthX, lengthY = getCoord(data)\n",
    "    length = lengthX if lengthX < lengthY else lengthY\n",
    "    convert = 440/length # video side length 440mm, square\n",
    "    radius = round(radius / convert)\n",
    "    \n",
    "    \n",
    "    #cap: Read video\n",
    "    #out: Write video\n",
    "    video = videoWriter(\"field of view\", filename, outputName, displayVideo)\n",
    "    cap = video[0]\n",
    "    out = video[1]\n",
    "\n",
    "    # Get the frames count of video in order to break the loop when it reaches the last frame\n",
    "    frameCnt = cap.get(cv2.CAP_PROP_FRAME_COUNT)\n",
    "    if (cap.isOpened() == False): \n",
    "          print(\"Unable to read video\")\n",
    "    count = 1\n",
    "    while(cap.isOpened()):\n",
    "        try:\n",
    "            for center, angle in tqdm(zip(head, degrees)):\n",
    "                ret,img = cap.read()\n",
    "            #draw the sector representing the field of view of mouse\n",
    "                angle = int(round(angle))\n",
    "                startAngle = angle - viewRange\n",
    "                endAngle = angle + viewRange\n",
    "                img2 = drawSector(img, radius, center, rotationAngle, startAngle, endAngle, color, thickness)\n",
    "                out.write(img2)\n",
    "                    \n",
    "                if displayVideo == True:\n",
    "                    cv2.imshow('Draw field of view video',img2) \n",
    "                    \n",
    "                # Break the loop when the last frame has been rotated\n",
    "                if count == frameCnt:\n",
    "                    print (filename, 'successfully ', \"added field of view!!!\")\n",
    "                    return\n",
    "                else:\n",
    "                    count += 1\n",
    "\n",
    "                k=cv2.waitKey(30) & 0xff\n",
    "                #once you inter Esc capturing will stop\n",
    "                if k==27:\n",
    "                    break\n",
    "        except:\n",
    "            break\n",
    "    cap.release()\n",
    "    out.release()\n",
    "    cv2.destroyAllWindows()\n"
   ]
  },
  {
   "cell_type": "code",
   "execution_count": null,
   "metadata": {},
   "outputs": [],
   "source": [
    "BLACK = (0,0,0)\n",
    "from math import degrees, atan2\n",
    "def drawSector(image, radius, center, angle, startAngle, endAngle, color, thickness):\n",
    "    # Ellipse parameters\n",
    "    axes = (radius, radius)\n",
    "\n",
    "    cv2.ellipse(image, center, axes, angle, startAngle, endAngle, color, thickness)\n",
    "    points = cv2.ellipse2Poly(center, axes, angle, startAngle, endAngle, thickness)\n",
    "    point1 = tuple(points[0]) # End's coordinates\n",
    "    point2 = tuple(points[-1]) # Another end's coordinates\n",
    "    cv2.line(image, center, point1, color)\n",
    "    cv2.line(image, center, point2, color)\n",
    "    return image\n",
    "\n",
    "def head_dir(data):\n",
    "    p1 = pd.concat([data[\"x\"], data[\"y\"]],axis=1)\n",
    "    p2 = pd.concat([data[\"x.1\"], data[\"y.1\"]], axis = 1, keys=['x', 'y']) \n",
    "    #Reassign column names\n",
    "    xDiff = p1.x - p2.x\n",
    "    yDiff = p1.y - p2.y\n",
    "    direction = []\n",
    "    degreeL = []\n",
    "    for i in range(0,len(xDiff)):\n",
    "        degree = degrees(atan2(tuple(yDiff)[i], tuple(xDiff)[i]))\n",
    "#         if degree < 0:\n",
    "#             degree += 360\n",
    "#             degreeL.append(degree)\n",
    "#         else:\n",
    "        degreeL.append(degree)\n",
    "        if (degree >= 90 and degree <= 180) or (degree <= -90 and degree >= -180): \n",
    "            #Facing encloser\n",
    "            direction.append(1)\n",
    "        else: \n",
    "            direction.append(0) \n",
    "            #Facing other side\n",
    "    if __name__ == \"__main__\": \n",
    "        return (direction, degreeL)"
   ]
  },
  {
   "cell_type": "code",
   "execution_count": null,
   "metadata": {},
   "outputs": [],
   "source": [
    "x = dataModifier(move_data)"
   ]
  },
  {
   "cell_type": "code",
   "execution_count": null,
   "metadata": {},
   "outputs": [],
   "source": [
    "fieldOfView(x, '1034 SI_B, Aug 15, 13 7 49.mp4', \"cropTest1.mp4\", 50, 0, BLACK, 60, 1)"
   ]
  },
  {
   "cell_type": "code",
   "execution_count": null,
   "metadata": {},
   "outputs": [],
   "source": [
    "x, y, lengthX, lengthY = getCoord(move_data)"
   ]
  },
  {
   "cell_type": "code",
   "execution_count": null,
   "metadata": {},
   "outputs": [],
   "source": [
    "x, y, lengthX, lengthY"
   ]
  },
  {
   "cell_type": "code",
   "execution_count": null,
   "metadata": {},
   "outputs": [],
   "source": [
    "convertX = 440/lengthX\n",
    "convertY = 440/lengthY\n",
    "print(convertX, convertY)"
   ]
  },
  {
   "cell_type": "code",
   "execution_count": null,
   "metadata": {},
   "outputs": [],
   "source": [
    "440/331"
   ]
  },
  {
   "cell_type": "code",
   "execution_count": null,
   "metadata": {},
   "outputs": [],
   "source": [
    "videoCropper('1034 SI_B, Aug 15, 13 7 49 rotated.mp4', \"cropTest rotated.mp4\", y, x, lengthY, lengthX)"
   ]
  },
  {
   "cell_type": "code",
   "execution_count": null,
   "metadata": {},
   "outputs": [],
   "source": [
    "##Question: choose length of the edge in order to be converted in video processing"
   ]
  }
 ],
 "metadata": {
  "kernelspec": {
   "display_name": "Python 3",
   "language": "python",
   "name": "python3"
  },
  "language_info": {
   "codemirror_mode": {
    "name": "ipython",
    "version": 3
   },
   "file_extension": ".py",
   "mimetype": "text/x-python",
   "name": "python",
   "nbconvert_exporter": "python",
   "pygments_lexer": "ipython3",
   "version": "3.7.1"
  }
 },
 "nbformat": 4,
 "nbformat_minor": 2
}
