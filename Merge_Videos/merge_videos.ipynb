{
 "cells": [
  {
   "cell_type": "markdown",
   "metadata": {
    "ein.tags": "worksheet-0",
    "slideshow": {
     "slide_type": "-"
    }
   },
   "source": [
    "# Merge Videos"
   ]
  },
  {
   "cell_type": "code",
   "execution_count": 1,
   "metadata": {},
   "outputs": [],
   "source": [
    "from tkinter.filedialog import askopenfilenames, asksaveasfilename\n",
    "from natsort import natsorted\n",
    "import os"
   ]
  },
  {
   "cell_type": "code",
   "execution_count": 2,
   "metadata": {},
   "outputs": [
    {
     "name": "stdout",
     "output_type": "stream",
     "text": [
      "Select videos to merge:\n",
      "These videos will be merged according to the order below:\n",
      "C:/DLC/in1.mp4\n",
      "C:/DLC/in2.mp4\n",
      "C:/DLC/in10.mp4\n",
      "Save the merged video as:\n",
      "Running ffmpeg\\bin\\ffmpeg.exe -y -f concat -safe 0 -i list.txt -c copy \"C:/DLC/mergedVideo.mp4\"\n"
     ]
    }
   ],
   "source": [
    "print('Select videos to merge:')\n",
    "\n",
    "in_paths = askopenfilenames()\n",
    "in_paths = list(in_paths)\n",
    "natsorted(in_paths)\n",
    "\n",
    "print('These videos will be merged according to the order below:')\n",
    "for i in in_paths:\n",
    "    print(i)\n",
    "\n",
    "print('Save the merged video as:')\n",
    "out_path = asksaveasfilename(defaultextension='.mp4', initialdir=in_paths[0], initialfile='mergedVideo')\n",
    "\n",
    "in_list = ''\n",
    "for i in in_paths:\n",
    "    in_list += 'file \\''+i+'\\'\\n'\n",
    "with open('list.txt', 'w') as list_file:\n",
    "    list_file.write(in_list)\n",
    "\n",
    "# See http://trac.ffmpeg.org/wiki/Concatenate\n",
    "print('Running ffmpeg\\\\bin\\\\ffmpeg.exe -y -f concat -safe 0 -i list.txt -c copy \"'+out_path+'\"')\n",
    "os.system('ffmpeg\\\\bin\\\\ffmpeg.exe -y -f concat -safe 0 -i list.txt -c copy \"'+out_path+'\"')\n",
    "\n",
    "os.remove('list.txt')"
   ]
  }
 ],
 "metadata": {
  "kernelspec": {
   "display_name": "Python 3",
   "language": "python",
   "name": "python3"
  },
  "language_info": {
   "codemirror_mode": {
    "name": "ipython",
    "version": 3
   },
   "file_extension": ".py",
   "mimetype": "text/x-python",
   "name": "python",
   "nbconvert_exporter": "python",
   "pygments_lexer": "ipython3",
   "version": "3.7.3"
  },
  "name": "labelling.ipynb"
 },
 "nbformat": 4,
 "nbformat_minor": 2
}
