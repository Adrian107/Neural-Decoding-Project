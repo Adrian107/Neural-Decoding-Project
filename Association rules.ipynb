{
 "cells": [
  {
   "cell_type": "code",
   "execution_count": 1,
   "metadata": {},
   "outputs": [],
   "source": [
    "import os\n",
    "os.chdir(\"./Downloads\") "
   ]
  },
  {
   "cell_type": "code",
   "execution_count": 3,
   "metadata": {},
   "outputs": [
    {
     "data": {
      "text/plain": [
       "False"
      ]
     },
     "execution_count": 3,
     "metadata": {},
     "output_type": "execute_result"
    }
   ],
   "source": [
    "import pandas as pd\n",
    "from mlxtend.frequent_patterns import apriori\n",
    "dataset = pd.read_csv(\"binarized_data.csv\")\n",
    "dataset.index = list(range(1,434))\n",
    "df = dataset.T\n",
    "df = pd.DataFrame(df, columns = list(range(1, len(dataset.index)-1)))\n",
    "\n",
    "#Checking missing values\n",
    "df.isnull().values.any()"
   ]
  },
  {
   "cell_type": "code",
   "execution_count": null,
   "metadata": {},
   "outputs": [],
   "source": [
    "#No need to split data because we do not need build models here"
   ]
  },
  {
   "cell_type": "code",
   "execution_count": 4,
   "metadata": {},
   "outputs": [
    {
     "data": {
      "text/html": [
       "<div>\n",
       "<style scoped>\n",
       "    .dataframe tbody tr th:only-of-type {\n",
       "        vertical-align: middle;\n",
       "    }\n",
       "\n",
       "    .dataframe tbody tr th {\n",
       "        vertical-align: top;\n",
       "    }\n",
       "\n",
       "    .dataframe thead th {\n",
       "        text-align: right;\n",
       "    }\n",
       "</style>\n",
       "<table border=\"1\" class=\"dataframe\">\n",
       "  <thead>\n",
       "    <tr style=\"text-align: right;\">\n",
       "      <th></th>\n",
       "      <th>support</th>\n",
       "      <th>itemsets</th>\n",
       "    </tr>\n",
       "  </thead>\n",
       "  <tbody>\n",
       "    <tr>\n",
       "      <th>0</th>\n",
       "      <td>0.016864</td>\n",
       "      <td>(1)</td>\n",
       "    </tr>\n",
       "    <tr>\n",
       "      <th>1</th>\n",
       "      <td>0.021452</td>\n",
       "      <td>(14)</td>\n",
       "    </tr>\n",
       "    <tr>\n",
       "      <th>2</th>\n",
       "      <td>0.018972</td>\n",
       "      <td>(58)</td>\n",
       "    </tr>\n",
       "    <tr>\n",
       "      <th>3</th>\n",
       "      <td>0.013392</td>\n",
       "      <td>(65)</td>\n",
       "    </tr>\n",
       "    <tr>\n",
       "      <th>4</th>\n",
       "      <td>0.017298</td>\n",
       "      <td>(72)</td>\n",
       "    </tr>\n",
       "    <tr>\n",
       "      <th>5</th>\n",
       "      <td>0.023374</td>\n",
       "      <td>(73)</td>\n",
       "    </tr>\n",
       "    <tr>\n",
       "      <th>6</th>\n",
       "      <td>0.003658</td>\n",
       "      <td>(245)</td>\n",
       "    </tr>\n",
       "    <tr>\n",
       "      <th>7</th>\n",
       "      <td>0.002480</td>\n",
       "      <td>(256)</td>\n",
       "    </tr>\n",
       "    <tr>\n",
       "      <th>8</th>\n",
       "      <td>0.000372</td>\n",
       "      <td>(1, 14)</td>\n",
       "    </tr>\n",
       "    <tr>\n",
       "      <th>9</th>\n",
       "      <td>0.000124</td>\n",
       "      <td>(1, 58)</td>\n",
       "    </tr>\n",
       "    <tr>\n",
       "      <th>10</th>\n",
       "      <td>0.000186</td>\n",
       "      <td>(65, 1)</td>\n",
       "    </tr>\n",
       "    <tr>\n",
       "      <th>11</th>\n",
       "      <td>0.000682</td>\n",
       "      <td>(58, 14)</td>\n",
       "    </tr>\n",
       "    <tr>\n",
       "      <th>12</th>\n",
       "      <td>0.000186</td>\n",
       "      <td>(65, 14)</td>\n",
       "    </tr>\n",
       "    <tr>\n",
       "      <th>13</th>\n",
       "      <td>0.000558</td>\n",
       "      <td>(72, 14)</td>\n",
       "    </tr>\n",
       "    <tr>\n",
       "      <th>14</th>\n",
       "      <td>0.000620</td>\n",
       "      <td>(73, 14)</td>\n",
       "    </tr>\n",
       "    <tr>\n",
       "      <th>15</th>\n",
       "      <td>0.000682</td>\n",
       "      <td>(65, 58)</td>\n",
       "    </tr>\n",
       "    <tr>\n",
       "      <th>16</th>\n",
       "      <td>0.000558</td>\n",
       "      <td>(72, 58)</td>\n",
       "    </tr>\n",
       "    <tr>\n",
       "      <th>17</th>\n",
       "      <td>0.001550</td>\n",
       "      <td>(73, 58)</td>\n",
       "    </tr>\n",
       "    <tr>\n",
       "      <th>18</th>\n",
       "      <td>0.000186</td>\n",
       "      <td>(256, 58)</td>\n",
       "    </tr>\n",
       "    <tr>\n",
       "      <th>19</th>\n",
       "      <td>0.000310</td>\n",
       "      <td>(73, 65)</td>\n",
       "    </tr>\n",
       "    <tr>\n",
       "      <th>20</th>\n",
       "      <td>0.001984</td>\n",
       "      <td>(72, 73)</td>\n",
       "    </tr>\n",
       "    <tr>\n",
       "      <th>21</th>\n",
       "      <td>0.000496</td>\n",
       "      <td>(72, 245)</td>\n",
       "    </tr>\n",
       "    <tr>\n",
       "      <th>22</th>\n",
       "      <td>0.000186</td>\n",
       "      <td>(256, 72)</td>\n",
       "    </tr>\n",
       "    <tr>\n",
       "      <th>23</th>\n",
       "      <td>0.000186</td>\n",
       "      <td>(73, 245)</td>\n",
       "    </tr>\n",
       "    <tr>\n",
       "      <th>24</th>\n",
       "      <td>0.000992</td>\n",
       "      <td>(256, 73)</td>\n",
       "    </tr>\n",
       "    <tr>\n",
       "      <th>25</th>\n",
       "      <td>0.000620</td>\n",
       "      <td>(256, 245)</td>\n",
       "    </tr>\n",
       "    <tr>\n",
       "      <th>26</th>\n",
       "      <td>0.000186</td>\n",
       "      <td>(72, 73, 14)</td>\n",
       "    </tr>\n",
       "    <tr>\n",
       "      <th>27</th>\n",
       "      <td>0.000186</td>\n",
       "      <td>(256, 73, 72)</td>\n",
       "    </tr>\n",
       "    <tr>\n",
       "      <th>28</th>\n",
       "      <td>0.000186</td>\n",
       "      <td>(256, 73, 245)</td>\n",
       "    </tr>\n",
       "  </tbody>\n",
       "</table>\n",
       "</div>"
      ],
      "text/plain": [
       "     support        itemsets\n",
       "0   0.016864             (1)\n",
       "1   0.021452            (14)\n",
       "2   0.018972            (58)\n",
       "3   0.013392            (65)\n",
       "4   0.017298            (72)\n",
       "5   0.023374            (73)\n",
       "6   0.003658           (245)\n",
       "7   0.002480           (256)\n",
       "8   0.000372         (1, 14)\n",
       "9   0.000124         (1, 58)\n",
       "10  0.000186         (65, 1)\n",
       "11  0.000682        (58, 14)\n",
       "12  0.000186        (65, 14)\n",
       "13  0.000558        (72, 14)\n",
       "14  0.000620        (73, 14)\n",
       "15  0.000682        (65, 58)\n",
       "16  0.000558        (72, 58)\n",
       "17  0.001550        (73, 58)\n",
       "18  0.000186       (256, 58)\n",
       "19  0.000310        (73, 65)\n",
       "20  0.001984        (72, 73)\n",
       "21  0.000496       (72, 245)\n",
       "22  0.000186       (256, 72)\n",
       "23  0.000186       (73, 245)\n",
       "24  0.000992       (256, 73)\n",
       "25  0.000620      (256, 245)\n",
       "26  0.000186    (72, 73, 14)\n",
       "27  0.000186   (256, 73, 72)\n",
       "28  0.000186  (256, 73, 245)"
      ]
     },
     "execution_count": 4,
     "metadata": {},
     "output_type": "execute_result"
    }
   ],
   "source": [
    "#Freq tables\n",
    "freq = apriori(df, min_support=0.0001, use_colnames=True, max_len=None, n_jobs=1)\n",
    "freq"
   ]
  },
  {
   "cell_type": "code",
   "execution_count": null,
   "metadata": {},
   "outputs": [],
   "source": [
    "#Histograms plot\n",
    "from itertools import chain\n",
    "lst = (dataset.values.tolist())\n",
    "p = list(chain(*lst))"
   ]
  },
  {
   "cell_type": "code",
   "execution_count": null,
   "metadata": {},
   "outputs": [],
   "source": [
    "sns.set(rc={'figure.figsize':(11.7, 8.27)})\n",
    "sns.distplot(p,kde=False).set_title('Frequency of 1 and 0 (Spiking or Not)')"
   ]
  },
  {
   "cell_type": "code",
   "execution_count": null,
   "metadata": {},
   "outputs": [],
   "source": [
    "import collections\n",
    "counter=collections.Counter(p)\n",
    "print(counter)"
   ]
  },
  {
   "cell_type": "code",
   "execution_count": null,
   "metadata": {},
   "outputs": [],
   "source": [
    "#Sparse data\n",
    "train_df = dataset\n",
    "idx = train_df.columns.values[0:]\n",
    "stat = pd.DataFrame()\n",
    "\n",
    "stat['sum'] = train_df[idx].sum(axis=1)  \n",
    "stat['min'] = train_df[idx].min(axis=1)\n",
    "stat['max'] = train_df[idx].max(axis=1)\n",
    "stat['mean'] = train_df[idx].mean(axis=1)\n",
    "stat['std'] = train_df[idx].std(axis=1)"
   ]
  },
  {
   "cell_type": "code",
   "execution_count": null,
   "metadata": {},
   "outputs": [],
   "source": [
    "stat.sort_values(\"max\", ascending=[0])"
   ]
  },
  {
   "cell_type": "code",
   "execution_count": null,
   "metadata": {},
   "outputs": [],
   "source": [
    "from mlxtend.frequent_patterns import association_rules\n",
    "assoc = association_rules(freq, metric='confidence', min_threshold=0.00001, support_only=False)\n",
    "assoc"
   ]
  },
  {
   "cell_type": "code",
   "execution_count": null,
   "metadata": {},
   "outputs": [],
   "source": [
    "assoc.sort_values(\"confidence\", ascending=[0])"
   ]
  },
  {
   "cell_type": "code",
   "execution_count": null,
   "metadata": {},
   "outputs": [],
   "source": [
    "raw = df[255].values.tolist()\n",
    "x = []\n",
    "y = []\n",
    "for i in range(len(raw)):\n",
    "    if raw[i] == 1:\n",
    "        x.append(i)\n",
    "    else:\n",
    "        y.append(i)\n",
    "x"
   ]
  },
  {
   "cell_type": "code",
   "execution_count": null,
   "metadata": {},
   "outputs": [],
   "source": [
    "raw = df[426].values.tolist()\n",
    "x1 = []\n",
    "y = []\n",
    "for i in range(len(raw)):\n",
    "    if raw[i] == 1:\n",
    "        x1.append(i)\n",
    "    else:\n",
    "        y.append(i)\n",
    "(x1)"
   ]
  },
  {
   "cell_type": "code",
   "execution_count": null,
   "metadata": {},
   "outputs": [],
   "source": [
    "p = []\n",
    "for i in x:\n",
    "    for j in x1:\n",
    "        if i == j:\n",
    "            p.append(i)\n",
    "len(p)/len(x)"
   ]
  },
  {
   "cell_type": "code",
   "execution_count": null,
   "metadata": {},
   "outputs": [],
   "source": [
    "raw = df[13].values.tolist()\n",
    "x1 = []\n",
    "y = []\n",
    "for i in range(len(raw)):\n",
    "    if raw[i] == 1:\n",
    "        x1.append(i)\n",
    "    else:\n",
    "        y.append(i)\n",
    "len(x1)"
   ]
  },
  {
   "cell_type": "code",
   "execution_count": null,
   "metadata": {},
   "outputs": [],
   "source": []
  }
 ],
 "metadata": {
  "kernelspec": {
   "display_name": "Python 3",
   "language": "python",
   "name": "python3"
  },
  "language_info": {
   "codemirror_mode": {
    "name": "ipython",
    "version": 3
   },
   "file_extension": ".py",
   "mimetype": "text/x-python",
   "name": "python",
   "nbconvert_exporter": "python",
   "pygments_lexer": "ipython3",
   "version": "3.7.1"
  }
 },
 "nbformat": 4,
 "nbformat_minor": 2
}
