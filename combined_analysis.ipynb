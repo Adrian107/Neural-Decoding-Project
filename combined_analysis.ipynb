{
 "cells": [
  {
   "cell_type": "markdown",
   "metadata": {},
   "source": [
    "# Combined analysis / Heatmap generation"
   ]
  },
  {
   "cell_type": "markdown",
   "metadata": {},
   "source": [
    "### Extract neuron.S"
   ]
  },
  {
   "cell_type": "code",
   "execution_count": 1,
   "metadata": {},
   "outputs": [],
   "source": [
    "# Run csvwrite('ca.csv', full(neuron.S)) in MATLAB"
   ]
  },
  {
   "cell_type": "markdown",
   "metadata": {},
   "source": [
    "### Build the frameMap from the timestamp.dat"
   ]
  },
  {
   "cell_type": "code",
   "execution_count": null,
   "metadata": {},
   "outputs": [],
   "source": [
    "build_frame_map(r'TIMESTAMP_DAT_PATH', r'WORKING_FOLDER')"
   ]
  },
  {
   "cell_type": "markdown",
   "metadata": {},
   "source": [
    "### Transform coordinates"
   ]
  },
  {
   "cell_type": "code",
   "execution_count": null,
   "metadata": {},
   "outputs": [],
   "source": [
    "transform_coordinates(r'H5_PATH', np.float32([[TOP,LEFT], [TOP,RIGHT], [BOTTOM,RIGHT], [BOTTOM,LEFT]]), 44, 44,\n",
    "                      r'WORKING_FOLDER')"
   ]
  },
  {
   "cell_type": "markdown",
   "metadata": {},
   "source": [
    "### Generate heatmaps"
   ]
  },
  {
   "cell_type": "code",
   "execution_count": null,
   "metadata": {},
   "outputs": [],
   "source": [
    "# Enclosure length: 10 cm; Width: 4.5 cm\n",
    "generate_heatmaps(r'WORKING_FOLDER', np.float32(((17,39.5), (27,39.5), (27,44), (17,44))), int(sqrt(27**2 + 44**2)))"
   ]
  },
  {
   "cell_type": "markdown",
   "metadata": {},
   "source": [
    "## *Run all below before calling them*"
   ]
  },
  {
   "cell_type": "markdown",
   "metadata": {},
   "source": [
    "### Build the frameMap from the timestamp.dat"
   ]
  },
  {
   "cell_type": "code",
   "execution_count": null,
   "metadata": {},
   "outputs": [],
   "source": [
    "import os\n",
    "import csv"
   ]
  },
  {
   "cell_type": "code",
   "execution_count": null,
   "metadata": {},
   "outputs": [],
   "source": [
    "def build_frame_map(time_stamp_path, work_fold):\n",
    "    frame_map, time_stamps = [], []\n",
    "    with open(time_stamp_path) as time_stamp_file:\n",
    "        _ = csv.reader(time_stamp_file, delimiter='\\t')\n",
    "        for i in _:\n",
    "            time_stamps.append(i)\n",
    "\n",
    "    print('First 5 lines of the timestamp.dat:')\n",
    "    for i in time_stamps[:5]:\n",
    "        print (*i, sep='\\t')\n",
    "    print('Last 5 lines:')\n",
    "    for i in time_stamps[-5:]:\n",
    "        print (*i, sep='\\t')\n",
    "    ca_cam = time_stamps[1][0]\n",
    "    beh_cam = time_stamps[2][0]\n",
    "    print('Decide the camNum of Ca2+ imaging:\\n(Normally, the one with larger frameNum at the end)')\n",
    "    if (input(ca_cam + '/' + beh_cam) != ca_cam):\n",
    "        ca_cam, beh_cam = beh_cam, ca_cam\n",
    "\n",
    "    ca_count, beh_count = 0, 0\n",
    "    last_beh_frame = '-1'\n",
    "    for i in time_stamps[1:]:\n",
    "        if (i[0] == ca_cam):\n",
    "            ca_count += 1\n",
    "        else:\n",
    "            while(beh_count < ca_count):\n",
    "                frame_map.append(i[1])\n",
    "                beh_count += 1\n",
    "            last_beh_frame = i[1]\n",
    "\n",
    "    with open(Path(work_fold)/'ca2beh.csv', 'w', newline='') as frame_map_csv_file:\n",
    "        frame_map_csv_writ = csv.writer(frame_map_csv_file)\n",
    "        for i in frame_map:\n",
    "            frame_map_csv_writ.writerow([i])\n",
    "    print('A Frame Map (Map of behaviour frames with respect to the Ca2+ imaging frames) has been built as ca2beh.csv in ' + work_fold)"
   ]
  },
  {
   "cell_type": "markdown",
   "metadata": {},
   "source": [
    "### Transform coordinates"
   ]
  },
  {
   "cell_type": "code",
   "execution_count": null,
   "metadata": {},
   "outputs": [],
   "source": [
    "import numpy as np\n",
    "from pathlib import Path\n",
    "import pandas as pd\n",
    "import cv2"
   ]
  },
  {
   "cell_type": "code",
   "execution_count": null,
   "metadata": {},
   "outputs": [],
   "source": [
    "# Calculate transformation matrix\n",
    "def clc_trnsf_mat(src_qdr_vrts, dst_wdth, dst_hght):\n",
    "    dst_qdr_vrts = np.float32([[0, 0],\n",
    "                               [dst_wdth-1, 0],\n",
    "                               [dst_wdth-1, dst_hght-1],\n",
    "                               [0, dst_hght-1]])\n",
    "    return cv2.getPerspectiveTransform(src_qdr_vrts, dst_qdr_vrts)"
   ]
  },
  {
   "cell_type": "code",
   "execution_count": null,
   "metadata": {},
   "outputs": [],
   "source": [
    "# Transform points\n",
    "def trnsf_pnts(src_pnts, src_qdr_vrts, dst_wdth, dst_hght):\n",
    "    # Convert 2D (x, y) to 3D (x, y, 1)\n",
    "    src_pnts = np.concatenate((src_pnts, np.ones((src_pnts.shape[0], 1))), axis=1)\n",
    "\n",
    "    # Transformation matrix\n",
    "    trnsf_mat = clc_trnsf_mat(src_qdr_vrts, dst_wdth, dst_hght)\n",
    "    # Since (destination points)^T = (transformation matrix)(source points)^T\n",
    "    # And (AB)^T = B^TA^T\n",
    "    # Destination points = (source points)(transformation matrix)^T\n",
    "    dst_pnts = np.dot(src_pnts, trnsf_mat.T)\n",
    "\n",
    "    return dst_pnts[:,:2]"
   ]
  },
  {
   "cell_type": "code",
   "execution_count": null,
   "metadata": {},
   "outputs": [],
   "source": [
    "# src_qdr_vrts: Source quadrangle vertices (top-left, top-right, bottom-right, and bottom-left)\n",
    "# dst_wdth: Destination width\n",
    "# dst_hght: Destination height\n",
    "def transform_coordinates(h5_path, src_qdr_vrts, dst_wdth, dst_hght, work_fold):\n",
    "    csv_path = Path(h5_path).parent/(Path(h5_path).stem+'.csv')\n",
    "    \n",
    "    \n",
    "    # Converse .h5 to .csv\n",
    "    h5 = pd.read_hdf(h5_path, 'df_with_missing')\n",
    "    h5.to_csv(csv_path)\n",
    "    \n",
    "    \n",
    "    # Read .csv\n",
    "    csv = np.loadtxt(csv_path, delimiter=',', skiprows=3)\n",
    "\n",
    "    src_heads, src_bods, src_tails = csv[:,1:3], csv[:,4:6], csv[:,7:9]\n",
    "\n",
    "    dst_heads = trnsf_pnts(src_heads, src_qdr_vrts, dst_wdth, dst_hght)\n",
    "    dst_bods = trnsf_pnts(src_bods, src_qdr_vrts, dst_wdth, dst_hght)\n",
    "    dst_tails = trnsf_pnts(src_tails, src_qdr_vrts, dst_wdth, dst_hght)\n",
    "\n",
    "    dst = np.concatenate((dst_heads, csv[:,3:4], dst_bods, csv[:,6:7], dst_tails, csv[:,9:10]), axis=1)\n",
    "    np.savetxt(Path(work_fold)/'beh.csv', dst, delimiter=',')"
   ]
  },
  {
   "cell_type": "markdown",
   "metadata": {},
   "source": [
    "### Generate heatmaps"
   ]
  },
  {
   "cell_type": "code",
   "execution_count": null,
   "metadata": {},
   "outputs": [],
   "source": [
    "import os\n",
    "from math import sqrt, atan2, cos, sin, degrees\n",
    "import csv\n",
    "import numpy as np\n",
    "import matplotlib.pyplot as plt\n",
    "from mpl_toolkits.mplot3d import Axes3D"
   ]
  },
  {
   "cell_type": "code",
   "execution_count": null,
   "metadata": {},
   "outputs": [],
   "source": [
    "# Circle-line intersection: http://mathworld.wolfram.com/Circle-LineIntersection.html\n",
    "def sgn(x):\n",
    "    return -1 if x < 0 else 1\n",
    "\n",
    "def int_circ_line(r, x1, y1, x2, y2):\n",
    "    dx = x2 - x1\n",
    "    dy = y2 - y1\n",
    "    dr = sqrt(dx**2 + dy**2)\n",
    "    d = x1*y2 - x2*y1\n",
    "    \n",
    "    delta = r**2 * dr**2 - d**2\n",
    "    if delta < 0:\n",
    "        return []\n",
    "    \n",
    "    x, y = [], []\n",
    "    _x = (d*dy + sgn(dy)*dx*sqrt(delta)) / dr**2\n",
    "    _y = (-d*dx + abs(dy)*sqrt(delta)) / dr**2\n",
    "    # If the point on the line falls within the segment\n",
    "    if ((_x-x1) * (_x-x2) < 0 or\n",
    "        (_y-y1) * (_y-y2) < 0):\n",
    "        x.append(_x)\n",
    "        y.append(_y)\n",
    "    \n",
    "    _x = (d*dy - sgn(dy)*dx*sqrt(delta)) / dr**2\n",
    "    _y = (-d*dx - abs(dy)*sqrt(delta)) / dr**2\n",
    "    if ((_x-x1) * (_x-x2) < 0 or\n",
    "        (_y-y1) * (_y-y2) < 0):\n",
    "        x.append(_x)\n",
    "        y.append(_y)\n",
    "    \n",
    "    # Theta = tan^-1(y / x)\n",
    "    theta = [atan2(_y, _x) for _x, _y in zip(x, y)]\n",
    "    return theta"
   ]
  },
  {
   "cell_type": "code",
   "execution_count": null,
   "metadata": {},
   "outputs": [],
   "source": [
    "# Check if a point, given its polar coordinates, is inside a rectangle\n",
    "def is_ins_encl(r, theta, encl_qdr_vrts): \n",
    "    # M is inside the rectangle iff\n",
    "    # (0 < AM dot AB < AB dot AB) and (0 < AM dot AD < AD dot AD)\n",
    "    # See: https://math.stackexchange.com/questions/190111/how-to-check-if-a-point-is-inside-a-rectangle\n",
    "    m = np.float32((r*cos(theta), r*sin(theta)))\n",
    "    a = encl_qdr_vrts[0]\n",
    "    b = encl_qdr_vrts[1]\n",
    "    d = encl_qdr_vrts[3]\n",
    "    \n",
    "    am = m-a\n",
    "    ab = b-a\n",
    "    ad = d-a\n",
    "    \n",
    "    return ((0 < np.dot(am, ab) and np.dot(am, ab) < np.dot(ab, ab)) and\n",
    "            (0 < np.dot(am, ad) and np.dot(am, ad) < np.dot(ad, ad)))"
   ]
  },
  {
   "cell_type": "code",
   "execution_count": null,
   "metadata": {},
   "outputs": [],
   "source": [
    "# src_encl_qdr_vrts: Source enclosure quadrangle vertices (top-left, top-right, bottom-right, and bottom-left)\n",
    "# htm_rad: Heatmap radius\n",
    "def generate_heatmaps(work_fold, src_encl_qdr_vrts, htm_rad):\n",
    "    curr_dir = os.getcwd()\n",
    "    os.chdir(work_fold)\n",
    "\n",
    "    # Epsilon\n",
    "    eps = np.finfo(np.float32).eps\n",
    "    \n",
    "    \n",
    "    heads, bods = [], []\n",
    "    with open('beh.csv') as _f:\n",
    "    _c = csv.reader(_f)\n",
    "    for i in _c:\n",
    "        heads.append([float(_) for _ in i[0:2]])\n",
    "        bods.append([float(_) for _ in i[3:5]])\n",
    "        \n",
    "        \n",
    "    ca = np.loadtxt('ca.csv', delimiter=',')\n",
    "\n",
    "    ca2beh = []\n",
    "    with open('ca2beh.csv') as _f:\n",
    "        _c = csv.reader(_f)\n",
    "        for i in _c:\n",
    "            ca2beh.append(int(i[0]))\n",
    "            \n",
    "            \n",
    "    dst_encl_qdr_vrts = []\n",
    "    for i, j in zip(heads, bods):\n",
    "        # Change of basis: https://www.math.hmc.edu/calculus/tutorials/changebasis/\n",
    "        u = np.float32((i[0]-j[0], i[1]-j[1]))\n",
    "        u = u / sqrt(u[0]**2 + u[1]**2)\n",
    "        # Perpendicular vector: http://mathworld.wolfram.com/PerpendicularVector.html\n",
    "        # Notice that the coordinate system is being changed from left-handed to right-handed\n",
    "        # Hence (-u[1], u[0]) becomes (u[1], -u[0])\n",
    "        v = np.float32((u[1], -u[0]))\n",
    "        p = np.stack((u,v), axis=1)\n",
    "    \n",
    "        # Destination enclosure quadrangle vertices\n",
    "        _ = src_encl_qdr_vrts - np.float32((i[0], i[1]))\n",
    "        # Since (destination enclosure quadrangle vertices)^T = p^T(source enclosure quadrangle vertices)^T\n",
    "        # And (AB)^T = B^TA^T\n",
    "        # Destination enclosure quadrangle vertices = (source enclosure quadrangle vertices)p\n",
    "        _ = np.dot(_, p)\n",
    "        dst_encl_qdr_vrts.append(_)\n",
    "        \n",
    "        \n",
    "    # Arcs of the concentric circles covered by each enclosure\n",
    "    arcs_encl = []\n",
    "    for i in dst_encl_qdr_vrts:\n",
    "        # Enclosure-covered arcs of each concentric circles\n",
    "        arcs_circ = []\n",
    "        for j in range(1, htm_rad+1):\n",
    "            theta = []\n",
    "            for k in range(4):\n",
    "                theta += int_circ_line(j, i[k][0], i[k][1], i[(k+1)%4][0], i[(k+1)%4][1])\n",
    "\n",
    "            if len(theta) < 2:\n",
    "                arcs_circ.append([])\n",
    "                continue\n",
    "        \n",
    "            theta = sorted(theta)\n",
    "        \n",
    "            if is_ins_encl(j, (theta[0]+theta[1])/2, i):\n",
    "                theta = [degrees(_) for _ in theta]\n",
    "                theta = [int(_) for _ in theta]\n",
    "                theta = [_+360 if _ < 0 else _ for _ in theta]\n",
    "                theta = [theta[_:_+2] for _ in range(0, len(theta)-1, 2)]\n",
    "            else:\n",
    "                theta = [degrees(_) for _ in theta]\n",
    "                theta = [int(_) for _ in theta]\n",
    "                theta = [_+360 if _ < 0 else _ for _ in theta]\n",
    "                theta.append(theta[0])\n",
    "                theta = [theta[_:_+2] for _ in range(1, len(theta), 2)]\n",
    "            arcs_circ.append(theta)\n",
    "        \n",
    "        arcs_encl.append(arcs_circ)\n",
    "        \n",
    "        \n",
    "    # Occupancy heatmap\n",
    "    occ = np.zeros((htm_rad, 360), dtype='float32')\n",
    "    for i in arcs_encl:\n",
    "        for j in range(htm_rad):\n",
    "            for k in i[j]:\n",
    "                if k[0] <= k[1]:\n",
    "                    for l in range(k[0], k[1]):\n",
    "                        occ[j][l] += 1\n",
    "                else:\n",
    "                    for l in range(k[0], 360):\n",
    "                        occ[j][l] += 1\n",
    "                    for l in range(0, k[1]):\n",
    "                        occ[j][l] += 1\n",
    "\n",
    "    # Adapted from: https://www.pythonprogramming.in/how-do-i-create-radial-heatmap-in-matplotlib.html\n",
    "    fig = plt.figure()\n",
    "    ax = Axes3D(fig)\n",
    "\n",
    "    rad = np.linspace(0, htm_rad, htm_rad+1)\n",
    "    a = np.linspace(0, 2*np.pi, 361)\n",
    "    r, th = np.meshgrid(rad, a)\n",
    "\n",
    "    z = occ.T\n",
    "    plt.subplot(projection=\"polar\")\n",
    " \n",
    "    plt.pcolormesh(th, r, z, cmap='coolwarm')\n",
    " \n",
    "    plt.plot(a, r, ls='None') \n",
    "    plt.grid()\n",
    "    plt.colorbar(ticks=[])\n",
    "\n",
    "    plt.savefig('occ.png', dpi=300)\n",
    "    plt.show()\n",
    "    \n",
    "    \n",
    "    # Firing heatmaps for individual cells\n",
    "    for i in range(ca.shape[0]):\n",
    "        fir = np.zeros((htm_rad, 360), dtype='float32')\n",
    "    \n",
    "        for j in range(min(ca[i].shape[0], len(ca2beh))):\n",
    "            if ca[i][j] < eps:\n",
    "                continue\n",
    "        \n",
    "            _ = ca[i][j]\n",
    "            for k in range(htm_rad):\n",
    "                for l in arcs_encl[ca2beh[j]-1][k]:\n",
    "                    if l[0] <= l[1]:\n",
    "                        for m in range(l[0], l[1]):\n",
    "                            fir[k][m] += _\n",
    "                    else:\n",
    "                        for m in range(l[0], 360):\n",
    "                            fir[k][m] += _\n",
    "                        for m in range(0, l[1]):\n",
    "                            fir[k][m] += _\n",
    "        \n",
    "        fir /= occ\n",
    "        \n",
    "        # Adapted from: https://www.pythonprogramming.in/how-do-i-create-radial-heatmap-in-matplotlib.html\n",
    "        fig = plt.figure()\n",
    "        ax = Axes3D(fig)\n",
    "\n",
    "        rad = np.linspace(0, htm_rad, htm_rad+1)\n",
    "        a = np.linspace(0, 2*np.pi, 361)\n",
    "        r, th = np.meshgrid(rad, a)\n",
    "\n",
    "        z = fir.T\n",
    "        plt.subplot(projection=\"polar\")\n",
    " \n",
    "        plt.pcolormesh(th, r, z, cmap='coolwarm')\n",
    " \n",
    "        plt.plot(a, r, ls='None')\n",
    "        plt.grid()\n",
    "        plt.colorbar(ticks=[])\n",
    "    \n",
    "        plt.savefig(str(i+1)+'.png', dpi=300)\n",
    "        plt.show()\n",
    "        \n",
    "        \n",
    "    os.chdir(curr_dir)"
   ]
  }
 ],
 "metadata": {
  "kernelspec": {
   "display_name": "Python 3",
   "language": "python",
   "name": "python3"
  },
  "language_info": {
   "codemirror_mode": {
    "name": "ipython",
    "version": 3
   },
   "file_extension": ".py",
   "mimetype": "text/x-python",
   "name": "python",
   "nbconvert_exporter": "python",
   "pygments_lexer": "ipython3",
   "version": "3.6.8"
  }
 },
 "nbformat": 4,
 "nbformat_minor": 2
}
