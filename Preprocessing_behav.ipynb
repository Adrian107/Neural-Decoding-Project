{
 "cells": [
  {
   "cell_type": "markdown",
   "metadata": {},
   "source": [
    "# Behavioral Preprocessing\n",
    "\n",
    "Functions included: Distance between defeated and bullying mouse; Defeated mouse head direction; Behavioral annotation."
   ]
  },
  {
   "cell_type": "code",
   "execution_count": 2,
   "metadata": {},
   "outputs": [],
   "source": [
    "import numpy as np \n",
    "import os\n",
    "import glob\n",
    "import pandas as pd\n",
    "import h5py\n",
    "from math import degrees, atan2"
   ]
  },
  {
   "cell_type": "code",
   "execution_count": 7,
   "metadata": {},
   "outputs": [],
   "source": [
    "os.chdir(\"/home/donghan/DeepLabCut/data/rotated\") #Change to your own directory"
   ]
  },
  {
   "cell_type": "markdown",
   "metadata": {},
   "source": [
    "## Data read from h5 file"
   ]
  },
  {
   "cell_type": "code",
   "execution_count": 18,
   "metadata": {},
   "outputs": [],
   "source": [
    "filenames = glob.glob('*.h5') \n",
    "#Return the file name with extention of .h5, which contain the data of coordination axis\n",
    "f = []\n",
    "for filename in filenames:\n",
    "    f = h5py.File(filename, 'r')\n",
    "    start = filename.find('10') \n",
    "    #Find the string that start with \"10\"\n",
    "    end = filename.find(' rotated', start) \n",
    "    #Return the string with end of \" rotated\", aims to name the file\n",
    "    csvfile = []\n",
    "    with pd.HDFStore(filename, 'r') as d:\n",
    "        df = d.get(list(f.keys())[0])\n",
    "        df.to_csv(s[start:end] + '.csv') \n",
    "        #Automaticaly change to unique file name with specific mouse number\n",
    "        csvfile.append(s[start:end] + '.csv')"
   ]
  },
  {
   "cell_type": "markdown",
   "metadata": {},
   "source": [
    "## Distance bewteen defeated mouse head and encloser\n",
    "### The Pythagorean theorem"
   ]
  },
  {
   "cell_type": "code",
   "execution_count": 31,
   "metadata": {},
   "outputs": [],
   "source": [
    "#Distance bewteen defeated mouse head and encloser\n",
    "#Encloser coordination axis need modification #IMPORTANT\n",
    "\n",
    "def cal_dist(data): \n",
    "    fixedX = 50\n",
    "    fixedY = 200\n",
    "    x = data[\"x\"]\n",
    "    y = data[\"y\"]\n",
    "    dist = np.sqrt((x - fixedX)**2 + (y - fixedY)**2)\n",
    "    if __name__ == \"__main__\": \n",
    "        return dist  "
   ]
  },
  {
   "cell_type": "markdown",
   "metadata": {},
   "source": [
    "## Head Direction"
   ]
  },
  {
   "cell_type": "code",
   "execution_count": 34,
   "metadata": {},
   "outputs": [],
   "source": [
    "#Head Direction\n",
    "\n",
    "def head_dir(data):\n",
    "    p1 = pd.concat([data[\"x\"], data[\"y\"]],axis=1)\n",
    "    p2 = pd.concat([data[\"x.1\"], data[\"y.1\"]], axis = 1, keys=['x', 'y']) \n",
    "    #Reassign column names\n",
    "    xDiff = p2.x - p1.x\n",
    "    yDiff = p2.y - p1.y\n",
    "    direction = []\n",
    "    degreeL = []\n",
    "    for i in range(0,len(xDiff)):\n",
    "        degree = degrees(atan2(tuple(yDiff)[i], tuple(xDiff)[i]))\n",
    "        degreeL.append(degree)\n",
    "        if (degree >= 90 and degree <= 180) or (degree <= -90 and degree >= -180): \n",
    "            #Facing encloser\n",
    "            direction.append(1)\n",
    "        else: \n",
    "            direction.append(0) \n",
    "            #Facing other side\n",
    "    if __name__ == \"__main__\": \n",
    "        return (direction, degreeL)\n",
    "# Whether the mouse's direction towards bullying mouse or not, 1: yes; 0: no\n",
    "# The degree of head direction, clockwise."
   ]
  },
  {
   "cell_type": "markdown",
   "metadata": {},
   "source": [
    "## Annotations\n",
    "\n",
    "Based on pre-setting video, the coordination axis could be used in annotating. \n",
    "\n",
    "For example, since the behavioral camera is not perfectly match the size of the cage, we have the interaction zone of four points, (70, 116), (70, 307), (171, 116), (171, 307), so once the mouse's head enter this area, the behavior will be labled as \"1\""
   ]
  },
  {
   "cell_type": "code",
   "execution_count": 38,
   "metadata": {},
   "outputs": [],
   "source": [
    "#Annotations of bahavior definition\n",
    "\n",
    "# Approaching the interaction zone (area around the enclosure)\n",
    "# Avoiding the interaction zone - this could include instances where the animal enters the 1/2 of the chamber containing the enclosure + the head direction is facing the enclosure, but it doesn't enter the interaction zone\n",
    "# Sniffing/directly interacting with the enclosure\n",
    "# Sitting in the corners (2 corners closest to enclosure vs 2 far corners)\n",
    "\n",
    "def annotate(interactionXL = 70, interactionXR = 171, interactionYUpper = 307, interactionYLower = 116, enclosureX = 134, enclosureYLower = 146, enclosureYUpper = 256, corX = 315, corUppRY = 302, corLowRY = 124, MidLineX = 190, data = data):\n",
    "    posX = data['x'].tolist()\n",
    "    posY = data['y'].tolist()\n",
    "    head = head_dir(data)[0] \n",
    "    #Whether the head is facing enclosure\n",
    "    label = []\n",
    "    for i in range(0, len(posX)):\n",
    "        if posX[i] < interactionXR and posY[i] < interactionYUpper and posY[i] > interactionYLower: \n",
    "            #Approaching\n",
    "            label.append(1)\n",
    "        elif posX[i] <= MidLineX and posX[i] > interactionXR and (posY[i] > interactionYUpper or posY[i] < interactionYLower): \n",
    "            #Avoidance\n",
    "            label.append(2)\n",
    "        elif posX[i] < enclosureX and posY[i] > enclosureYLower and posY[i] < enclosureYUpper: \n",
    "            #Sniffing\n",
    "            label.append(3)\n",
    "        elif (posX[i] > corX and posY[i] < corLowRY) or (posX[i] > corX and posY[i] > corUppRY): \n",
    "            #Sitting in the corners\n",
    "            label.append(4)\n",
    "        else: #Other cases\n",
    "            label.append(5)\n",
    "    if __name__ == \"__main__\": \n",
    "        return label"
   ]
  },
  {
   "cell_type": "markdown",
   "metadata": {},
   "source": [
    "#### Remove the first ten seconds, which has no mouse in the case (~200 frames)"
   ]
  },
  {
   "cell_type": "code",
   "execution_count": 25,
   "metadata": {
    "scrolled": true
   },
   "outputs": [],
   "source": [
    "for i in csvfile:\n",
    "    data = pd.read_csv(i, skiprows = 2) \n",
    "    #Skip the rows of scorer and bodyparts\n",
    "    move_data = data.loc[200:] \n",
    "    #There are no mouse in the first ten seconds\n",
    "    cal_dist(move_data) \n",
    "    #Distance\n",
    "    head_dir(move_data) \n",
    "    #Head direction\n",
    "    annotate(data = move_data) \n",
    "    #Annotation"
   ]
  },
  {
   "cell_type": "markdown",
   "metadata": {},
   "source": [
    "## Appendix\n",
    "### Video Rotation"
   ]
  },
  {
   "cell_type": "code",
   "execution_count": 9,
   "metadata": {
    "scrolled": true
   },
   "outputs": [
    {
     "name": "stdout",
     "output_type": "stream",
     "text": [
      "behavCam1.avi successfully rotated!!!\n"
     ]
    }
   ],
   "source": [
    "import numpy as np\n",
    "import cv2\n",
    "import glob\n",
    "os.chdir(\"/home/donghan/DeepLabCut/data\") \n",
    "#Working directory that stores video data\n",
    "def rotate(image, angle, center=None, scale=1): \n",
    "    #scale = 1: original size\n",
    "    rows,cols,ch = image.shape\n",
    "    if center == None:\n",
    "        center = (cols / 2, rows / 2)\n",
    "    M = cv2.getRotationMatrix2D(center, angle, scale) \n",
    "    #Matrix: Rotate with center by angles\n",
    "    dst = cv2.warpAffine(image,M,(cols,rows)) \n",
    "    #After rotation\n",
    "    return dst\n",
    "\n",
    "\n",
    "def videorotate(filename, output_name, display_video = False):\n",
    "    # capture video\n",
    "    cap = cv2.VideoCapture(filename)\n",
    "\n",
    "    #read video frame by frame\n",
    "    #extract original video frame features\n",
    "    sz = (int(cap.get(cv2.CAP_PROP_FRAME_WIDTH)),\n",
    "            int(cap.get(cv2.CAP_PROP_FRAME_HEIGHT)))\n",
    "\n",
    "    fourcc = int(cap.get(cv2.CAP_PROP_FOURCC))\n",
    "\n",
    "    fps = int(cap.get(cv2.CAP_PROP_FPS))\n",
    "\n",
    "    #Make a directory to store the rotated videos\n",
    "    path = \"./rotated\"\n",
    "    try:  \n",
    "        os.mkdir(path)\n",
    "    except OSError:  \n",
    "        pass\n",
    "    else:  \n",
    "        print (\"Successfully created the directory %s \" % path)\n",
    "        \n",
    "    #Automatically name the rotated videos  \n",
    "    file = \"./rotated/\" + output_name\n",
    "    out = cv2.VideoWriter(file, cv2.VideoWriter_fourcc('M', 'J', 'P', 'G'), fps, sz) \n",
    "    #Integrate all frames to video\n",
    "\n",
    "    \n",
    "    #Read videos and rotate by certain degrees\n",
    "    while(cap.isOpened()):\n",
    "        #flip for truning(fliping) frames of video\n",
    "        ret,img = cap.read()\n",
    "        try:\n",
    "            img2 = rotate(img, -4.5) \n",
    "            #Flipped Vertically\n",
    "            out.write(img2)\n",
    "            if display_video == True:\n",
    "                cv2.imshow('rotated video',img2) \n",
    "\n",
    "            k=cv2.waitKey(30) & 0xff\n",
    "            #once you inter Esc capturing will stop\n",
    "            if k==27:\n",
    "                break\n",
    "        except:\n",
    "            print (filename, 'successfully rotated!!!' )\n",
    "            break\n",
    "    cap.release()\n",
    "    out.release()\n",
    "    cv2.destroyAllWindows()\n",
    "    \n",
    "    \n",
    "# #Generate all rotating videos    \n",
    "# filenames = glob.glob('*.mp4') #Return the file name with .mp4 extention \n",
    "# for i in filenames:\n",
    "#     videorotate(i,os.path.splitext(i)[0] + \" rotated.mp4\")\n",
    "    \n",
    "videorotate(\"behavCam1.avi\", \"behavCam1 rotated.avi\")"
   ]
  }
 ],
 "metadata": {
  "kernelspec": {
   "display_name": "Python 3",
   "language": "python",
   "name": "python3"
  },
  "language_info": {
   "codemirror_mode": {
    "name": "ipython",
    "version": 3
   },
   "file_extension": ".py",
   "mimetype": "text/x-python",
   "name": "python",
   "nbconvert_exporter": "python",
   "pygments_lexer": "ipython3",
   "version": "3.6.8"
  }
 },
 "nbformat": 4,
 "nbformat_minor": 2
}
