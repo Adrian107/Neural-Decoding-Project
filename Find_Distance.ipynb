{
 "cells": [
  {
   "cell_type": "code",
   "execution_count": 2,
   "metadata": {},
   "outputs": [],
   "source": [
    "import os\n",
    "os.chdir(\"./data\")"
   ]
  },
  {
   "cell_type": "code",
   "execution_count": 3,
   "metadata": {},
   "outputs": [
    {
     "name": "stdout",
     "output_type": "stream",
     "text": [
      "Keys: KeysView(<HDF5 file \"1034 SI_B, Aug 15, 13 7 49DeepCut_resnet50_ReachingMar12shuffle1_800.h5\" (mode r)>)\n"
     ]
    }
   ],
   "source": [
    "import h5py\n",
    "filename = '1034 SI_B, Aug 15, 13 7 49DeepCut_resnet50_ReachingMar12shuffle1_800.h5'\n",
    "f = h5py.File(filename, 'r')\n",
    "\n",
    "# List all groups\n",
    "print(\"Keys: %s\" % f.keys())\n",
    "a_group_key = list(f.keys())[0]\n",
    "\n",
    "# Get the data\n",
    "data = list(f[a_group_key])"
   ]
  },
  {
   "cell_type": "code",
   "execution_count": 4,
   "metadata": {},
   "outputs": [],
   "source": [
    "import pandas as pd\n",
    " \n",
    "with pd.HDFStore('1034 SI_B, Aug 15, 13 7 49DeepCut_resnet50_ReachingMar12shuffle1_800.h5', 'r') as d:\n",
    "    df = d.get(list(f.keys())[0])\n",
    "    df.to_csv('1030 SI_B.csv')"
   ]
  },
  {
   "cell_type": "code",
   "execution_count": 5,
   "metadata": {},
   "outputs": [],
   "source": [
    "data = pd.read_csv(\"1030 SI_B.csv\",skiprows = 2)"
   ]
  },
  {
   "cell_type": "markdown",
   "metadata": {},
   "source": [
    "#### Remove the first ten seconds, which has no mouse in the case (200 frames)"
   ]
  },
  {
   "cell_type": "code",
   "execution_count": 6,
   "metadata": {},
   "outputs": [],
   "source": [
    "move_data = data.loc[200:]"
   ]
  },
  {
   "cell_type": "code",
   "execution_count": 7,
   "metadata": {
    "scrolled": true
   },
   "outputs": [
    {
     "data": {
      "text/plain": [
       "200     352.954902\n",
       "201     339.529008\n",
       "202     330.710550\n",
       "203     316.288294\n",
       "204     308.267518\n",
       "205     297.640930\n",
       "206     294.311149\n",
       "207     294.930426\n",
       "208     303.958526\n",
       "209     311.620245\n",
       "210     323.272076\n",
       "211     327.131556\n",
       "212     330.177052\n",
       "213     332.721866\n",
       "214     337.193786\n",
       "215     401.653015\n",
       "216     389.209916\n",
       "217     342.116334\n",
       "218     339.216278\n",
       "219     341.110168\n",
       "220     347.052314\n",
       "221     348.749794\n",
       "222     346.468282\n",
       "223     339.524622\n",
       "224     334.626589\n",
       "225     331.112141\n",
       "226     329.172125\n",
       "227     328.365842\n",
       "228     329.069008\n",
       "229     326.019257\n",
       "           ...    \n",
       "3451    127.740526\n",
       "3452    134.342602\n",
       "3453    143.512255\n",
       "3454    150.176937\n",
       "3455    155.363634\n",
       "3456    158.923237\n",
       "3457    163.255360\n",
       "3458    167.230809\n",
       "3459    175.416077\n",
       "3460    186.652375\n",
       "3461    186.788972\n",
       "3462    182.617940\n",
       "3463    182.016852\n",
       "3464    186.696386\n",
       "3465    193.843394\n",
       "3466    195.998862\n",
       "3467    202.692209\n",
       "3468    207.597093\n",
       "3469    218.553845\n",
       "3470    224.174640\n",
       "3471    226.791130\n",
       "3472    231.200978\n",
       "3473    227.905698\n",
       "3474    228.122550\n",
       "3475    227.666037\n",
       "3476    229.145572\n",
       "3477    229.465610\n",
       "3478    231.549760\n",
       "3479    229.399922\n",
       "3480    229.842900\n",
       "Length: 3281, dtype: float64"
      ]
     },
     "execution_count": 7,
     "metadata": {},
     "output_type": "execute_result"
    }
   ],
   "source": [
    "#Distance bewteen defeated mouse head and encloser\n",
    "import numpy as np \n",
    "def cal_dist(data): \n",
    "    fixedX = 50\n",
    "    fixedY = 200\n",
    "    x = data[\"x\"]\n",
    "    y = data[\"y\"]\n",
    "    dist = np.sqrt((x - fixedX)**2 + (y - fixedY)**2)  \n",
    "    return dist  \n",
    "cal_dist(move_data)  "
   ]
  },
  {
   "cell_type": "code",
   "execution_count": 65,
   "metadata": {
    "scrolled": true
   },
   "outputs": [
    {
     "data": {
      "text/plain": [
       "[[1.0, 1.0, 1.0, 1.0, 1.0],\n",
       " [105.06555330944097,\n",
       "  103.2993416748217,\n",
       "  119.87163049942879,\n",
       "  114.83303281636094,\n",
       "  115.31710226905174]]"
      ]
     },
     "execution_count": 65,
     "metadata": {},
     "output_type": "execute_result"
    }
   ],
   "source": [
    "#Head Direction\n",
    "# Reference\n",
    "# https://stackoverflow.com/questions/42258637/how-to-know-the-angle-between-two-point\n",
    "from math import degrees, atan2\n",
    "def head_dir(data):\n",
    "    p1 = pd.concat([data[\"x\"], data[\"y\"]],axis=1)\n",
    "    p2 = pd.concat([data[\"x.1\"], data[\"y.1\"]], axis = 1, keys=['x', 'y'])\n",
    "    xDiff = p2.x - p1.x\n",
    "    yDiff = p2.y - p1.y\n",
    "    degree = []\n",
    "    for i in range(0,len(xDiff)):\n",
    "        degree.append(degrees(atan2(tuple(yDiff)[i], tuple(xDiff)[i])))\n",
    "    direction = [x-x+1 if x >= 90 or x <= -90 else x-x for x in degree]\n",
    "    return (direction, degree)\n",
    "\n",
    "\n",
    "[x[0:5] for x in head_dir(move_data)]\n",
    "# Whether the mouse's direction towards bullying mouse or not, 1: yes; 0: no\n",
    "# The degree of head direction, clockwise."
   ]
  },
  {
   "cell_type": "code",
   "execution_count": 67,
   "metadata": {},
   "outputs": [
    {
     "data": {
      "text/plain": [
       "[5, 5, 5, 5, 5]"
      ]
     },
     "execution_count": 67,
     "metadata": {},
     "output_type": "execute_result"
    }
   ],
   "source": [
    "#Anotations of bahavior definition\n",
    "\n",
    "# Approaching the interaction zone (area around the enclosure)\n",
    "# Avoiding the interaction zone - this could include instances where the animal enters the 1/2 of the chamber containing the enclosure + the head direction is facing the enclosure, but it doesn't enter the interaction zone\n",
    "# Sniffing/directly interacting with the enclosure\n",
    "# Sitting in the corners (2 corners closest to enclosure vs 2 far corners)\n",
    "\n",
    "def annotate(interactionX = 125, interactionYUpper = 250, interactionYLower = 150, corUppL = 50, corUppR = 400, MidLineX = 235, enclosureX = 90, enclosureYUpper = 300, enclosureYLower = 200, data = data):\n",
    "    posX = data['x'].tolist()\n",
    "    posY = data['y'].tolist()\n",
    "    head = head_dir(data)[0] #Whether the head is facing enclosure\n",
    "    label = []\n",
    "    for i in range(0, len(posX)):\n",
    "        if posX[i] < interactionX and posY[i] < interactionYUpper and posY[i] > interactionYLower and head[i] == 1.0: #Approaching\n",
    "            label.append(1)\n",
    "        elif posX[i] <= MidLineX and posX[i] > interactionX and (posY[i] > interactionYUpper or posY[i] < interactionYLower) and head[i] == 1.0: #Avoidance\n",
    "            label.append(2)\n",
    "        elif posX[i] < enclosureX and posY[i] > enclosureYLower and posY[i] < enclosureYUpper: #Sniffing\n",
    "            label.append(3)\n",
    "        elif (posX[i] < corUppL and posY[i] < corUppL) or (posX[i] > corUppR and posY[i] < corUppL) or (posX[i] < corUppL and posY[i] > corUppR) or (posX[i] > corUppR and posY[i] > corUppR): #Sitting in the corners\n",
    "            label.append(4)\n",
    "        else: #Other cases\n",
    "            label.append(5)\n",
    "    return label\n",
    "    \n",
    "\n",
    "annotate(data = move_data)[0:5]"
   ]
  }
 ],
 "metadata": {
  "kernelspec": {
   "display_name": "Python 3",
   "language": "python",
   "name": "python3"
  },
  "language_info": {
   "codemirror_mode": {
    "name": "ipython",
    "version": 3
   },
   "file_extension": ".py",
   "mimetype": "text/x-python",
   "name": "python",
   "nbconvert_exporter": "python",
   "pygments_lexer": "ipython3",
   "version": "3.7.1"
  }
 },
 "nbformat": 4,
 "nbformat_minor": 2
}
