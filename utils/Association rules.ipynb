{
 "cells": [
  {
   "cell_type": "code",
   "execution_count": null,
   "metadata": {},
   "outputs": [],
   "source": [
    "import os\n",
    "os.chdir(\"/home/donghan/Downloads\") #Change to your own directory"
   ]
  },
  {
   "cell_type": "code",
   "execution_count": null,
   "metadata": {},
   "outputs": [],
   "source": [
    "import pandas as pd\n",
    "from mlxtend.frequent_patterns import apriori\n",
    "dataset = pd.read_csv(\"binarizedC.csv\", header = None)\n",
    "dataset.index = list(range(1,434))\n",
    "df = dataset.T\n",
    "df.columns = list(range(1, len(dataset.index)+1))\n",
    "\n",
    "#Checking missing values\n",
    "df.isnull().values.any()"
   ]
  },
  {
   "cell_type": "code",
   "execution_count": null,
   "metadata": {},
   "outputs": [],
   "source": [
    "#No need to split data because we do not need build models here"
   ]
  },
  {
   "cell_type": "code",
   "execution_count": null,
   "metadata": {
    "scrolled": true
   },
   "outputs": [],
   "source": [
    "#Freq tables\n",
    "freq = apriori(df, min_support=0.001, use_colnames=True, max_len=None, n_jobs=1)\n",
    "freq"
   ]
  },
  {
   "cell_type": "code",
   "execution_count": null,
   "metadata": {},
   "outputs": [],
   "source": [
    "#Histograms plot\n",
    "from itertools import chain\n",
    "lst = (dataset.values.tolist())\n",
    "p = list(chain(*lst))"
   ]
  },
  {
   "cell_type": "code",
   "execution_count": null,
   "metadata": {},
   "outputs": [],
   "source": [
    "import seaborn as sns\n",
    "sns.set(rc={'figure.figsize':(11.7, 8.27)})\n",
    "sns.distplot(p,kde=False).set_title('Frequency of 1 and 0 (Spiking or Not)')"
   ]
  },
  {
   "cell_type": "code",
   "execution_count": null,
   "metadata": {},
   "outputs": [],
   "source": [
    "import collections\n",
    "counter=collections.Counter(p)\n",
    "print(counter)"
   ]
  },
  {
   "cell_type": "code",
   "execution_count": null,
   "metadata": {},
   "outputs": [],
   "source": [
    "#Sparse data\n",
    "train_df = dataset\n",
    "idx = train_df.columns.values[0:]\n",
    "stat = pd.DataFrame()\n",
    "\n",
    "stat['sum'] = train_df[idx].sum(axis=1)  \n",
    "stat['min'] = train_df[idx].min(axis=1)\n",
    "stat['max'] = train_df[idx].max(axis=1)\n",
    "stat['mean'] = train_df[idx].mean(axis=1)\n",
    "stat['std'] = train_df[idx].std(axis=1)"
   ]
  },
  {
   "cell_type": "code",
   "execution_count": null,
   "metadata": {
    "scrolled": true
   },
   "outputs": [],
   "source": [
    "stat.sort_values(\"max\", ascending=[0])"
   ]
  },
  {
   "cell_type": "code",
   "execution_count": null,
   "metadata": {
    "scrolled": true
   },
   "outputs": [],
   "source": [
    "from mlxtend.frequent_patterns import association_rules\n",
    "assoc = association_rules(freq, metric='confidence', min_threshold=0.00001, support_only=False)\n",
    "assoc"
   ]
  },
  {
   "cell_type": "code",
   "execution_count": null,
   "metadata": {
    "scrolled": true
   },
   "outputs": [],
   "source": [
    "assoc.sort_values(\"confidence\", ascending=[0])"
   ]
  },
  {
   "cell_type": "code",
   "execution_count": null,
   "metadata": {},
   "outputs": [],
   "source": []
  }
 ],
 "metadata": {
  "kernelspec": {
   "display_name": "Python 3",
   "language": "python",
   "name": "python3"
  },
  "language_info": {
   "codemirror_mode": {
    "name": "ipython",
    "version": 3
   },
   "file_extension": ".py",
   "mimetype": "text/x-python",
   "name": "python",
   "nbconvert_exporter": "python",
   "pygments_lexer": "ipython3",
   "version": "3.6.8"
  }
 },
 "nbformat": 4,
 "nbformat_minor": 2
}
