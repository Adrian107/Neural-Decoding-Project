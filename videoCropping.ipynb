{
 "cells": [
  {
   "cell_type": "code",
   "execution_count": 24,
   "metadata": {},
   "outputs": [],
   "source": [
    "import cv2\n",
    "import os\n",
    "from time import time\n",
    "import glob\n",
    "import h5py\n",
    "import pandas as pd"
   ]
  },
  {
   "cell_type": "code",
   "execution_count": 49,
   "metadata": {},
   "outputs": [],
   "source": [
    "os.chdir(\"/home/donghan/DeepLabCut/data/\")\n",
    "filenames = glob.glob('*.h5') \n",
    "#Return the file name with extention of .h5, which contain the data of coordination axis\n",
    "f = []\n",
    "for filename in filenames:\n",
    "    f = h5py.File(filename, 'r')\n",
    "    start = filename.find('10') \n",
    "    #Find the string that start with \"10\"\n",
    "    end = filename.find(' rotated', start) \n",
    "    #Return the string with end of \" rotated\", aims to name the file\n",
    "    csvfile = []\n",
    "    with pd.HDFStore(filename, 'r') as d:\n",
    "        df = d.get(list(f.keys())[0])\n",
    "        df.to_csv(filename[start:end] + '.csv') \n",
    "        #Automaticaly change to unique file name with specific mouse number\n",
    "        csvfile.append(filename[start:end] + '.csv')\n",
    "for i in csvfile:\n",
    "    data = pd.read_csv(i, skiprows = 2) \n",
    "    #Skip the rows of scorer and bodyparts\n",
    "    move_data = data.loc[300:] "
   ]
  },
  {
   "cell_type": "code",
   "execution_count": 72,
   "metadata": {},
   "outputs": [],
   "source": [
    "def videoWriter(task, filename, outputName, corrX, corrY, distX, distY, displayVideo = False):\n",
    "    \n",
    "    '''\n",
    "    Task: Takes video as input and returns its capturing and output file. \n",
    "    \n",
    "    If task is edited, then corrX and corrY is the vertex of the cropped video edge. \n",
    "    '''\n",
    "\n",
    "    # Capture video\n",
    "    cap = cv2.VideoCapture(filename)\n",
    "\n",
    "    # Read video frame by frame\n",
    "    # Extract original video frame features\n",
    "    sz = (int(cap.get(cv2.CAP_PROP_FRAME_WIDTH)),\n",
    "            int(cap.get(cv2.CAP_PROP_FRAME_HEIGHT)))\n",
    "\n",
    "    fourcc = int(cap.get(cv2.CAP_PROP_FOURCC))\n",
    "\n",
    "    fps = int(cap.get(cv2.CAP_PROP_FPS))\n",
    "    # Make a directory to store the processed videos\n",
    "    path = \"./\" + task\n",
    "    try:  \n",
    "        os.mkdir(path)\n",
    "        print (\"Successfully created the directory %s \" % path)\n",
    "    except OSError:  \n",
    "        pass\n",
    "    \n",
    "\n",
    "    #Automatically name the processed videos  \n",
    "    file = \"./\" + task + \"/\" + outputName\n",
    "    if task == \"edited\":\n",
    "        out = cv2.VideoWriter(file, cv2.VideoWriter_fourcc('M', 'J', 'P', 'G'), fps, (distY, distX)) \n",
    "        # Another option: cv2.VideoWriter_fourcc(*'XVID')\n",
    "    else:\n",
    "        out = cv2.VideoWriter(file, cv2.VideoWriter_fourcc('M', 'J', 'P', 'G'), fps, sz)\n",
    "\n",
    "    return cap,out\n",
    "    \n",
    "def videoCropper(filename, outputName, corrX, corrY, distX, distY, displayVideo = False):\n",
    "\n",
    "    '''\n",
    "    Task: Crop videos to actural mouse moving edge\n",
    "    \n",
    "    PARAMETERS:\n",
    "    video: file that await for writting\n",
    "    \n",
    "    filename: video that need to be trim\n",
    "    \n",
    "    outputName: filename of output video\n",
    "    \n",
    "    corrX: coordinates of the start point in X\n",
    "    \n",
    "    corrY: coordinates of the start point in Y\n",
    "    \n",
    "    dist: cropped video is a square, as long as the coordinates of the start point is defined, the other\n",
    "    three vertex points are clear. \n",
    "\n",
    "    '''\n",
    "    # Calculate the other three points' coordinate\n",
    "    corrX1 = corrX + distX\n",
    "    corrY1 = corrY + distY\n",
    "\n",
    "    video = videoWriter(\"edited\", filename, outputName, corrX, corrY, distX, distY, displayVideo)\n",
    "    cap = video[0] \n",
    "    out = video[1]                  \n",
    "    frameCnt = cap.get(cv2.CAP_PROP_FRAME_COUNT)\n",
    "    # Not capturing a video\n",
    "    if (cap.isOpened() == False): \n",
    "          print(\"Unable to read video\")\n",
    "    count = 1\n",
    "    # Read videos and rotate by certain degrees\n",
    "    while(cap.isOpened()):\n",
    "        # Flip for truning(fliping) frames of video\n",
    "        ret,img = cap.read()\n",
    "        try:\n",
    "            img2 = img[corrX:corrX1, corrY:corrY1]\n",
    "            out.write(img2)\n",
    "            if displayVideo == True:\n",
    "                cv2.imshow('edited video',img2) \n",
    "            if count == frameCnt:\n",
    "                print (filename, 'successfully ', \"edited!\")\n",
    "                break\n",
    "            else:\n",
    "                count += 1\n",
    "            k=cv2.waitKey(30) & 0xff\n",
    "            #once you inter Esc capturing will stop\n",
    "            if k==27:\n",
    "                break\n",
    "        except:\n",
    "            break\n",
    "    cap.release()\n",
    "    out.release()\n",
    "    cv2.destroyAllWindows()\n",
    "    \n",
    "\n",
    "    \n",
    "def getCoord(data):\n",
    "    '''\n",
    "    Task: Obtaining the coordinates of cropped points\n",
    "    '''\n",
    "    x = sorted(data['x'], reverse = True)\n",
    "    y = sorted(data['y'], reverse = True)\n",
    "    \n",
    "    # Try to exclude outliers\n",
    "    for i in range(10):\n",
    "        xMax = round(x[i + 1]) if x[i] - x[i + 1] >= 1 else round(x[i])\n",
    "        \n",
    "        xMin = round(x[-i-1]) if x[-i] - x[-i-1] >= 1 else round(x[-i])\n",
    "            \n",
    "        yMax = round(y[i + 1]) if y[i] - y[i + 1] >= 1 else round(y[i])\n",
    "\n",
    "        yMin = round(y[-i-1]) if y[-i] - y[-i-1] >= 1 else round(y[-i])\n",
    "    \n",
    "    lengthX = xMax - xMin\n",
    "    lengthY = yMax - yMin\n",
    "    \n",
    "    \n",
    "    return xMin, yMin, lengthX, lengthY\n",
    "\n"
   ]
  },
  {
   "cell_type": "code",
   "execution_count": 73,
   "metadata": {},
   "outputs": [],
   "source": [
    "x, y, lengthX, lengthY = getCoord(move_data)"
   ]
  },
  {
   "cell_type": "code",
   "execution_count": 78,
   "metadata": {},
   "outputs": [
    {
     "data": {
      "text/plain": [
       "(54, 38, 331, 320)"
      ]
     },
     "execution_count": 78,
     "metadata": {},
     "output_type": "execute_result"
    }
   ],
   "source": [
    "x, y, lengthX, lengthY"
   ]
  },
  {
   "cell_type": "code",
   "execution_count": 80,
   "metadata": {},
   "outputs": [
    {
     "data": {
      "text/plain": [
       "1.3293051359516617"
      ]
     },
     "execution_count": 80,
     "metadata": {},
     "output_type": "execute_result"
    }
   ],
   "source": [
    "440/331"
   ]
  },
  {
   "cell_type": "code",
   "execution_count": 77,
   "metadata": {},
   "outputs": [
    {
     "name": "stdout",
     "output_type": "stream",
     "text": [
      "1034 SI_B, Aug 15, 13 7 49 rotated.mp4 successfully  edited!\n"
     ]
    }
   ],
   "source": [
    "videoCropper('1034 SI_B, Aug 15, 13 7 49 rotated.mp4', \"cropTest rotated.mp4\", y, x, lengthY, lengthX)"
   ]
  }
 ],
 "metadata": {
  "kernelspec": {
   "display_name": "Python 3",
   "language": "python",
   "name": "python3"
  },
  "language_info": {
   "codemirror_mode": {
    "name": "ipython",
    "version": 3
   },
   "file_extension": ".py",
   "mimetype": "text/x-python",
   "name": "python",
   "nbconvert_exporter": "python",
   "pygments_lexer": "ipython3",
   "version": "3.7.1"
  }
 },
 "nbformat": 4,
 "nbformat_minor": 2
}
