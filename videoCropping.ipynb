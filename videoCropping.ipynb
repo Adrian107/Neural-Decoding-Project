{
 "cells": [
  {
   "cell_type": "code",
   "execution_count": 2,
   "metadata": {},
   "outputs": [],
   "source": [
    "import cv2\n",
    "import os\n",
    "from time import time\n",
    "import glob\n",
    "import h5py\n",
    "import pandas as pd"
   ]
  },
  {
   "cell_type": "code",
   "execution_count": 3,
   "metadata": {},
   "outputs": [],
   "source": [
    "os.chdir(\"/home/donghan/DeepLabCut/data/\")\n",
    "filenames = glob.glob('*.h5') \n",
    "#Return the file name with extention of .h5, which contain the data of coordination axis\n",
    "f = []\n",
    "for filename in filenames:\n",
    "    f = h5py.File(filename, 'r')\n",
    "    start = filename.find('10') \n",
    "    #Find the string that start with \"10\"\n",
    "    end = filename.find(' rotated', start) \n",
    "    #Return the string with end of \" rotated\", aims to name the file\n",
    "    csvfile = []\n",
    "    with pd.HDFStore(filename, 'r') as d:\n",
    "        df = d.get(list(f.keys())[0])\n",
    "        df.to_csv(filename[start:end] + '.csv') \n",
    "        #Automaticaly change to unique file name with specific mouse number\n",
    "        csvfile.append(filename[start:end] + '.csv')\n",
    "for i in csvfile:\n",
    "    data = pd.read_csv(i, skiprows = 2) \n",
    "    #Skip the rows of scorer and bodyparts\n",
    "    move_data = data.loc[300:] "
   ]
  },
  {
   "cell_type": "code",
   "execution_count": 4,
   "metadata": {},
   "outputs": [],
   "source": [
    "def videoWriter(task, filename, outputName, corrX, corrY, distX, distY, displayVideo = False):\n",
    "    \n",
    "    '''\n",
    "    Task: Takes video as input and returns its capturing and output file. \n",
    "    \n",
    "    If task is edited, then corrX and corrY is the vertex of the cropped video edge. \n",
    "    '''\n",
    "\n",
    "    # Capture video\n",
    "    cap = cv2.VideoCapture(filename)\n",
    "\n",
    "    # Read video frame by frame\n",
    "    # Extract original video frame features\n",
    "    sz = (int(cap.get(cv2.CAP_PROP_FRAME_WIDTH)),\n",
    "            int(cap.get(cv2.CAP_PROP_FRAME_HEIGHT)))\n",
    "\n",
    "    fourcc = int(cap.get(cv2.CAP_PROP_FOURCC))\n",
    "\n",
    "    fps = int(cap.get(cv2.CAP_PROP_FPS))\n",
    "    # Make a directory to store the processed videos\n",
    "    path = \"./\" + task\n",
    "    try:  \n",
    "        os.mkdir(path)\n",
    "        print (\"Successfully created the directory %s \" % path)\n",
    "    except OSError:  \n",
    "        pass\n",
    "    \n",
    "\n",
    "    #Automatically name the processed videos  \n",
    "    file = \"./\" + task + \"/\" + outputName\n",
    "    if task == \"edited\":\n",
    "        out = cv2.VideoWriter(file, cv2.VideoWriter_fourcc('M', 'J', 'P', 'G'), fps, (distY, distX)) \n",
    "        # Another option: cv2.VideoWriter_fourcc(*'XVID')\n",
    "    else:\n",
    "        out = cv2.VideoWriter(file, cv2.VideoWriter_fourcc('M', 'J', 'P', 'G'), fps, sz)\n",
    "\n",
    "    return cap,out\n",
    "    \n",
    "def videoCropper(filename, outputName, corrX, corrY, distX, distY, displayVideo = False):\n",
    "\n",
    "    '''\n",
    "    Task: Crop videos to actural mouse moving edge\n",
    "    \n",
    "    PARAMETERS:\n",
    "    video: file that await for writting\n",
    "    \n",
    "    filename: video that need to be trim\n",
    "    \n",
    "    outputName: filename of output video\n",
    "    \n",
    "    corrX: coordinates of the start point in X\n",
    "    \n",
    "    corrY: coordinates of the start point in Y\n",
    "    \n",
    "    dist: cropped video is a square, as long as the coordinates of the start point is defined, the other\n",
    "    three vertex points are clear. \n",
    "\n",
    "    '''\n",
    "    # Calculate the other three points' coordinate\n",
    "    corrX1 = corrX + distX\n",
    "    corrY1 = corrY + distY\n",
    "\n",
    "    video = videoWriter(\"edited\", filename, outputName, corrX, corrY, distX, distY, displayVideo)\n",
    "    cap = video[0] \n",
    "    out = video[1]                  \n",
    "    frameCnt = cap.get(cv2.CAP_PROP_FRAME_COUNT)\n",
    "    # Not capturing a video\n",
    "    if (cap.isOpened() == False): \n",
    "          print(\"Unable to read video\")\n",
    "    count = 1\n",
    "    # Read videos and rotate by certain degrees\n",
    "    while(cap.isOpened()):\n",
    "        # Flip for truning(fliping) frames of video\n",
    "        ret,img = cap.read()\n",
    "        try:\n",
    "            img2 = img[corrX:corrX1, corrY:corrY1]\n",
    "            out.write(img2)\n",
    "            if displayVideo == True:\n",
    "                cv2.imshow('edited video',img2) \n",
    "            if count == frameCnt:\n",
    "                print (filename, 'successfully ', \"edited!\")\n",
    "                break\n",
    "            else:\n",
    "                count += 1\n",
    "            k=cv2.waitKey(30) & 0xff\n",
    "            #once you inter Esc capturing will stop\n",
    "            if k==27:\n",
    "                break\n",
    "        except:\n",
    "            break\n",
    "    cap.release()\n",
    "    out.release()\n",
    "    cv2.destroyAllWindows()\n",
    "    \n",
    "\n",
    "    \n",
    "def getCoord(data):\n",
    "    '''\n",
    "    Task: Obtaining the coordinates of cropped points\n",
    "    '''\n",
    "    x = sorted(data['x'], reverse = True)\n",
    "    y = sorted(data['y'], reverse = True)\n",
    "    \n",
    "    # Try to exclude outliers\n",
    "    for i in range(10):\n",
    "        xMax = round(x[i + 1]) if x[i] - x[i + 1] >= 1 else round(x[i])\n",
    "        \n",
    "        xMin = round(x[-i-1]) if x[-i] - x[-i-1] >= 1 else round(x[-i])\n",
    "            \n",
    "        yMax = round(y[i + 1]) if y[i] - y[i + 1] >= 1 else round(y[i])\n",
    "\n",
    "        yMin = round(y[-i-1]) if y[-i] - y[-i-1] >= 1 else round(y[-i])\n",
    "    \n",
    "    lengthX = xMax - xMin\n",
    "    lengthY = yMax - yMin\n",
    "    \n",
    "    \n",
    "    return xMin, yMin, lengthX, lengthY\n",
    "\n"
   ]
  },
  {
   "cell_type": "code",
   "execution_count": 13,
   "metadata": {
    "scrolled": true
   },
   "outputs": [
    {
     "data": {
      "text/plain": [
       "300      97.637673\n",
       "301      96.464238\n",
       "302      95.667854\n",
       "303      92.945142\n",
       "304      89.501368\n",
       "305      87.452137\n",
       "306      90.249456\n",
       "307      91.781311\n",
       "308      93.582320\n",
       "309      98.509132\n",
       "310     102.096745\n",
       "311     107.472021\n",
       "312     110.679431\n",
       "313     115.733047\n",
       "314     123.399451\n",
       "315     125.071446\n",
       "316     130.238227\n",
       "317     133.969042\n",
       "318     139.823178\n",
       "319     142.310530\n",
       "320     148.223490\n",
       "321     156.740241\n",
       "322     161.529191\n",
       "323     165.602060\n",
       "324     172.181792\n",
       "325     175.397152\n",
       "326     182.791460\n",
       "327     192.989972\n",
       "328     196.356635\n",
       "329     197.946256\n",
       "           ...    \n",
       "3438    237.937450\n",
       "3439    225.403668\n",
       "3440    215.487085\n",
       "3441    203.309465\n",
       "3442    190.386603\n",
       "3443    178.805893\n",
       "3444    165.567668\n",
       "3445    150.839678\n",
       "3446    140.763852\n",
       "3447    125.523216\n",
       "3448    111.612663\n",
       "3449     97.121559\n",
       "3450     82.494046\n",
       "3451     67.584011\n",
       "3452     62.495194\n",
       "3453     47.778252\n",
       "3454     35.496385\n",
       "3455     29.659161\n",
       "3456     22.245843\n",
       "3457     15.905497\n",
       "3458      7.845531\n",
       "3463      0.729313\n",
       "3464      2.981374\n",
       "3474      0.675063\n",
       "3475      4.727732\n",
       "3476      5.510835\n",
       "3477      7.370779\n",
       "3478     11.697224\n",
       "3479     12.077084\n",
       "3480     10.194838\n",
       "Name: y, Length: 3059, dtype: float64"
      ]
     },
     "execution_count": 13,
     "metadata": {},
     "output_type": "execute_result"
    }
   ],
   "source": [
    "\n",
    "testY = move_data['y'] - 54\n",
    "testY[testY>0]"
   ]
  },
  {
   "cell_type": "code",
   "execution_count": 12,
   "metadata": {
    "scrolled": true
   },
   "outputs": [
    {
     "data": {
      "text/plain": [
       "300     102.824652\n",
       "301     106.791032\n",
       "302     108.281269\n",
       "303     110.633805\n",
       "304     116.011484\n",
       "305     123.652093\n",
       "306     129.687625\n",
       "307     131.899760\n",
       "308     135.042958\n",
       "309     138.758209\n",
       "310     140.622795\n",
       "311     147.477197\n",
       "312     148.505436\n",
       "313     149.034113\n",
       "314     154.621338\n",
       "315     158.975889\n",
       "316     163.151378\n",
       "317     164.513144\n",
       "318     171.282163\n",
       "319     173.223418\n",
       "320     178.214715\n",
       "321     182.787089\n",
       "322     188.195131\n",
       "323     192.871386\n",
       "324     201.488167\n",
       "325     206.696326\n",
       "326     208.687446\n",
       "327     215.041439\n",
       "328     220.996955\n",
       "329     224.792359\n",
       "           ...    \n",
       "3451    112.839350\n",
       "3452    117.237265\n",
       "3453    116.633912\n",
       "3454    113.695936\n",
       "3455    114.969257\n",
       "3456    111.707090\n",
       "3457    110.629270\n",
       "3458    106.231025\n",
       "3459    107.423819\n",
       "3460    110.270969\n",
       "3461    111.707768\n",
       "3462    117.584792\n",
       "3463    121.665683\n",
       "3464    132.005055\n",
       "3465    139.129623\n",
       "3466    142.512795\n",
       "3467    150.832328\n",
       "3468    152.728322\n",
       "3469    164.136685\n",
       "3470    169.844775\n",
       "3471    175.558818\n",
       "3472    181.797145\n",
       "3473    183.416888\n",
       "3474    187.842431\n",
       "3475    190.532828\n",
       "3476    193.026207\n",
       "3477    194.856242\n",
       "3478    200.621461\n",
       "3479    198.249770\n",
       "3480    197.431164\n",
       "Name: x, Length: 3181, dtype: float64"
      ]
     },
     "execution_count": 12,
     "metadata": {},
     "output_type": "execute_result"
    }
   ],
   "source": [
    "test = move_data['x'] - 38\n",
    "test[test>0]"
   ]
  },
  {
   "cell_type": "code",
   "execution_count": null,
   "metadata": {},
   "outputs": [],
   "source": []
  },
  {
   "cell_type": "code",
   "execution_count": 5,
   "metadata": {},
   "outputs": [],
   "source": [
    "x, y, lengthX, lengthY = getCoord(move_data)"
   ]
  },
  {
   "cell_type": "code",
   "execution_count": 6,
   "metadata": {},
   "outputs": [
    {
     "data": {
      "text/plain": [
       "(54, 38, 331, 320)"
      ]
     },
     "execution_count": 6,
     "metadata": {},
     "output_type": "execute_result"
    }
   ],
   "source": [
    "x, y, lengthX, lengthY"
   ]
  },
  {
   "cell_type": "code",
   "execution_count": 83,
   "metadata": {},
   "outputs": [
    {
     "name": "stdout",
     "output_type": "stream",
     "text": [
      "1.3293051359516617 1.375\n"
     ]
    }
   ],
   "source": [
    "convertX = 440/lengthX\n",
    "convertY = 440/lengthY\n",
    "print(convertX, convertY)"
   ]
  },
  {
   "cell_type": "code",
   "execution_count": 80,
   "metadata": {},
   "outputs": [
    {
     "data": {
      "text/plain": [
       "1.3293051359516617"
      ]
     },
     "execution_count": 80,
     "metadata": {},
     "output_type": "execute_result"
    }
   ],
   "source": [
    "440/331"
   ]
  },
  {
   "cell_type": "code",
   "execution_count": 84,
   "metadata": {},
   "outputs": [
    {
     "name": "stdout",
     "output_type": "stream",
     "text": [
      "1034 SI_B, Aug 15, 13 7 49 rotated.mp4 successfully  edited!\n"
     ]
    }
   ],
   "source": [
    "videoCropper('1034 SI_B, Aug 15, 13 7 49 rotated.mp4', \"cropTest rotated.mp4\", y, x, lengthY, lengthX)"
   ]
  },
  {
   "cell_type": "code",
   "execution_count": null,
   "metadata": {},
   "outputs": [],
   "source": [
    "##Question: choose length of the edge in order to be converted in video processing"
   ]
  }
 ],
 "metadata": {
  "kernelspec": {
   "display_name": "Python 3",
   "language": "python",
   "name": "python3"
  },
  "language_info": {
   "codemirror_mode": {
    "name": "ipython",
    "version": 3
   },
   "file_extension": ".py",
   "mimetype": "text/x-python",
   "name": "python",
   "nbconvert_exporter": "python",
   "pygments_lexer": "ipython3",
   "version": "3.6.8"
  }
 },
 "nbformat": 4,
 "nbformat_minor": 2
}
